{
  "nbformat": 4,
  "nbformat_minor": 0,
  "metadata": {
    "colab": {
      "provenance": []
    },
    "kernelspec": {
      "name": "python3",
      "display_name": "Python 3"
    },
    "language_info": {
      "name": "python"
    },
    "widgets": {
      "application/vnd.jupyter.widget-state+json": {
        "2a7fa7b65e714d8eb3a22440c3379954": {
          "model_module": "@jupyter-widgets/controls",
          "model_name": "HBoxModel",
          "model_module_version": "1.5.0",
          "state": {
            "_dom_classes": [],
            "_model_module": "@jupyter-widgets/controls",
            "_model_module_version": "1.5.0",
            "_model_name": "HBoxModel",
            "_view_count": null,
            "_view_module": "@jupyter-widgets/controls",
            "_view_module_version": "1.5.0",
            "_view_name": "HBoxView",
            "box_style": "",
            "children": [
              "IPY_MODEL_5500a92b08ff4c2696a6b2e7d6a81b23",
              "IPY_MODEL_868c2ebac82b4e648a5b83a321759f1e",
              "IPY_MODEL_5587fabee59349e98816ba0e58259ad7"
            ],
            "layout": "IPY_MODEL_f12c3af686924ac2a1050aff90f3b874"
          }
        },
        "5500a92b08ff4c2696a6b2e7d6a81b23": {
          "model_module": "@jupyter-widgets/controls",
          "model_name": "HTMLModel",
          "model_module_version": "1.5.0",
          "state": {
            "_dom_classes": [],
            "_model_module": "@jupyter-widgets/controls",
            "_model_module_version": "1.5.0",
            "_model_name": "HTMLModel",
            "_view_count": null,
            "_view_module": "@jupyter-widgets/controls",
            "_view_module_version": "1.5.0",
            "_view_name": "HTMLView",
            "description": "",
            "description_tooltip": null,
            "layout": "IPY_MODEL_434e4d63eaf94b41a503b7c5791008fc",
            "placeholder": "​",
            "style": "IPY_MODEL_ec239be60bfa4522a253c4da42330832",
            "value": "100%"
          }
        },
        "868c2ebac82b4e648a5b83a321759f1e": {
          "model_module": "@jupyter-widgets/controls",
          "model_name": "FloatProgressModel",
          "model_module_version": "1.5.0",
          "state": {
            "_dom_classes": [],
            "_model_module": "@jupyter-widgets/controls",
            "_model_module_version": "1.5.0",
            "_model_name": "FloatProgressModel",
            "_view_count": null,
            "_view_module": "@jupyter-widgets/controls",
            "_view_module_version": "1.5.0",
            "_view_name": "ProgressView",
            "bar_style": "success",
            "description": "",
            "description_tooltip": null,
            "layout": "IPY_MODEL_fad4a63f3fe74187a26e05d10ee289a2",
            "max": 100,
            "min": 0,
            "orientation": "horizontal",
            "style": "IPY_MODEL_2c2a2766e0d04bd69ee0448a97098bda",
            "value": 100
          }
        },
        "5587fabee59349e98816ba0e58259ad7": {
          "model_module": "@jupyter-widgets/controls",
          "model_name": "HTMLModel",
          "model_module_version": "1.5.0",
          "state": {
            "_dom_classes": [],
            "_model_module": "@jupyter-widgets/controls",
            "_model_module_version": "1.5.0",
            "_model_name": "HTMLModel",
            "_view_count": null,
            "_view_module": "@jupyter-widgets/controls",
            "_view_module_version": "1.5.0",
            "_view_name": "HTMLView",
            "description": "",
            "description_tooltip": null,
            "layout": "IPY_MODEL_60b8e23434dd42c291a5cadf0df24150",
            "placeholder": "​",
            "style": "IPY_MODEL_70ce555cc99442dbb6968dcb10ec3fb4",
            "value": " 100/100 [00:02&lt;00:00, 62.50it/s]"
          }
        },
        "f12c3af686924ac2a1050aff90f3b874": {
          "model_module": "@jupyter-widgets/base",
          "model_name": "LayoutModel",
          "model_module_version": "1.2.0",
          "state": {
            "_model_module": "@jupyter-widgets/base",
            "_model_module_version": "1.2.0",
            "_model_name": "LayoutModel",
            "_view_count": null,
            "_view_module": "@jupyter-widgets/base",
            "_view_module_version": "1.2.0",
            "_view_name": "LayoutView",
            "align_content": null,
            "align_items": null,
            "align_self": null,
            "border": null,
            "bottom": null,
            "display": null,
            "flex": null,
            "flex_flow": null,
            "grid_area": null,
            "grid_auto_columns": null,
            "grid_auto_flow": null,
            "grid_auto_rows": null,
            "grid_column": null,
            "grid_gap": null,
            "grid_row": null,
            "grid_template_areas": null,
            "grid_template_columns": null,
            "grid_template_rows": null,
            "height": null,
            "justify_content": null,
            "justify_items": null,
            "left": null,
            "margin": null,
            "max_height": null,
            "max_width": null,
            "min_height": null,
            "min_width": null,
            "object_fit": null,
            "object_position": null,
            "order": null,
            "overflow": null,
            "overflow_x": null,
            "overflow_y": null,
            "padding": null,
            "right": null,
            "top": null,
            "visibility": null,
            "width": null
          }
        },
        "434e4d63eaf94b41a503b7c5791008fc": {
          "model_module": "@jupyter-widgets/base",
          "model_name": "LayoutModel",
          "model_module_version": "1.2.0",
          "state": {
            "_model_module": "@jupyter-widgets/base",
            "_model_module_version": "1.2.0",
            "_model_name": "LayoutModel",
            "_view_count": null,
            "_view_module": "@jupyter-widgets/base",
            "_view_module_version": "1.2.0",
            "_view_name": "LayoutView",
            "align_content": null,
            "align_items": null,
            "align_self": null,
            "border": null,
            "bottom": null,
            "display": null,
            "flex": null,
            "flex_flow": null,
            "grid_area": null,
            "grid_auto_columns": null,
            "grid_auto_flow": null,
            "grid_auto_rows": null,
            "grid_column": null,
            "grid_gap": null,
            "grid_row": null,
            "grid_template_areas": null,
            "grid_template_columns": null,
            "grid_template_rows": null,
            "height": null,
            "justify_content": null,
            "justify_items": null,
            "left": null,
            "margin": null,
            "max_height": null,
            "max_width": null,
            "min_height": null,
            "min_width": null,
            "object_fit": null,
            "object_position": null,
            "order": null,
            "overflow": null,
            "overflow_x": null,
            "overflow_y": null,
            "padding": null,
            "right": null,
            "top": null,
            "visibility": null,
            "width": null
          }
        },
        "ec239be60bfa4522a253c4da42330832": {
          "model_module": "@jupyter-widgets/controls",
          "model_name": "DescriptionStyleModel",
          "model_module_version": "1.5.0",
          "state": {
            "_model_module": "@jupyter-widgets/controls",
            "_model_module_version": "1.5.0",
            "_model_name": "DescriptionStyleModel",
            "_view_count": null,
            "_view_module": "@jupyter-widgets/base",
            "_view_module_version": "1.2.0",
            "_view_name": "StyleView",
            "description_width": ""
          }
        },
        "fad4a63f3fe74187a26e05d10ee289a2": {
          "model_module": "@jupyter-widgets/base",
          "model_name": "LayoutModel",
          "model_module_version": "1.2.0",
          "state": {
            "_model_module": "@jupyter-widgets/base",
            "_model_module_version": "1.2.0",
            "_model_name": "LayoutModel",
            "_view_count": null,
            "_view_module": "@jupyter-widgets/base",
            "_view_module_version": "1.2.0",
            "_view_name": "LayoutView",
            "align_content": null,
            "align_items": null,
            "align_self": null,
            "border": null,
            "bottom": null,
            "display": null,
            "flex": null,
            "flex_flow": null,
            "grid_area": null,
            "grid_auto_columns": null,
            "grid_auto_flow": null,
            "grid_auto_rows": null,
            "grid_column": null,
            "grid_gap": null,
            "grid_row": null,
            "grid_template_areas": null,
            "grid_template_columns": null,
            "grid_template_rows": null,
            "height": null,
            "justify_content": null,
            "justify_items": null,
            "left": null,
            "margin": null,
            "max_height": null,
            "max_width": null,
            "min_height": null,
            "min_width": null,
            "object_fit": null,
            "object_position": null,
            "order": null,
            "overflow": null,
            "overflow_x": null,
            "overflow_y": null,
            "padding": null,
            "right": null,
            "top": null,
            "visibility": null,
            "width": null
          }
        },
        "2c2a2766e0d04bd69ee0448a97098bda": {
          "model_module": "@jupyter-widgets/controls",
          "model_name": "ProgressStyleModel",
          "model_module_version": "1.5.0",
          "state": {
            "_model_module": "@jupyter-widgets/controls",
            "_model_module_version": "1.5.0",
            "_model_name": "ProgressStyleModel",
            "_view_count": null,
            "_view_module": "@jupyter-widgets/base",
            "_view_module_version": "1.2.0",
            "_view_name": "StyleView",
            "bar_color": null,
            "description_width": ""
          }
        },
        "60b8e23434dd42c291a5cadf0df24150": {
          "model_module": "@jupyter-widgets/base",
          "model_name": "LayoutModel",
          "model_module_version": "1.2.0",
          "state": {
            "_model_module": "@jupyter-widgets/base",
            "_model_module_version": "1.2.0",
            "_model_name": "LayoutModel",
            "_view_count": null,
            "_view_module": "@jupyter-widgets/base",
            "_view_module_version": "1.2.0",
            "_view_name": "LayoutView",
            "align_content": null,
            "align_items": null,
            "align_self": null,
            "border": null,
            "bottom": null,
            "display": null,
            "flex": null,
            "flex_flow": null,
            "grid_area": null,
            "grid_auto_columns": null,
            "grid_auto_flow": null,
            "grid_auto_rows": null,
            "grid_column": null,
            "grid_gap": null,
            "grid_row": null,
            "grid_template_areas": null,
            "grid_template_columns": null,
            "grid_template_rows": null,
            "height": null,
            "justify_content": null,
            "justify_items": null,
            "left": null,
            "margin": null,
            "max_height": null,
            "max_width": null,
            "min_height": null,
            "min_width": null,
            "object_fit": null,
            "object_position": null,
            "order": null,
            "overflow": null,
            "overflow_x": null,
            "overflow_y": null,
            "padding": null,
            "right": null,
            "top": null,
            "visibility": null,
            "width": null
          }
        },
        "70ce555cc99442dbb6968dcb10ec3fb4": {
          "model_module": "@jupyter-widgets/controls",
          "model_name": "DescriptionStyleModel",
          "model_module_version": "1.5.0",
          "state": {
            "_model_module": "@jupyter-widgets/controls",
            "_model_module_version": "1.5.0",
            "_model_name": "DescriptionStyleModel",
            "_view_count": null,
            "_view_module": "@jupyter-widgets/base",
            "_view_module_version": "1.2.0",
            "_view_name": "StyleView",
            "description_width": ""
          }
        }
      }
    }
  },
  "cells": [
    {
      "cell_type": "code",
      "source": [
        "!pip install tqdm"
      ],
      "metadata": {
        "colab": {
          "base_uri": "https://localhost:8080/"
        },
        "id": "QuExYd1jEmLm",
        "outputId": "2af8a8f6-0a7f-4a0d-c7e2-35666cacb850"
      },
      "execution_count": 1,
      "outputs": [
        {
          "output_type": "stream",
          "name": "stdout",
          "text": [
            "Looking in indexes: https://pypi.org/simple, https://us-python.pkg.dev/colab-wheels/public/simple/\n",
            "Requirement already satisfied: tqdm in /usr/local/lib/python3.10/dist-packages (4.65.0)\n"
          ]
        }
      ]
    },
    {
      "cell_type": "code",
      "execution_count": 2,
      "metadata": {
        "colab": {
          "base_uri": "https://localhost:8080/"
        },
        "id": "FV94A0MpD1A4",
        "outputId": "2e428089-7c88-4bdc-fc86-6011ed95752c"
      },
      "outputs": [
        {
          "output_type": "stream",
          "name": "stderr",
          "text": [
            "<ipython-input-2-173c0d863eb6>:10: DeprecationWarning: `set_matplotlib_formats` is deprecated since IPython 7.23, directly use `matplotlib_inline.backend_inline.set_matplotlib_formats()`\n",
            "  set_matplotlib_formats('svg', 'pdf') # For export\n"
          ]
        }
      ],
      "source": [
        "import os\n",
        "import math\n",
        "import numpy as np\n",
        "import time\n",
        "\n",
        "## Imports for plotting\n",
        "import matplotlib.pyplot as plt\n",
        "%matplotlib inline\n",
        "from IPython.display import set_matplotlib_formats\n",
        "set_matplotlib_formats('svg', 'pdf') # For export\n",
        "from matplotlib.colors import to_rgba\n",
        "import seaborn as sns\n",
        "sns.set()\n",
        "\n",
        "## Progress bar\n",
        "from tqdm.auto import tqdm"
      ]
    },
    {
      "cell_type": "code",
      "source": [
        "import jax\n",
        "import jax.numpy as jnp\n",
        "print(\"Using jax\", jax.__version__)"
      ],
      "metadata": {
        "colab": {
          "base_uri": "https://localhost:8080/"
        },
        "id": "W-C2ljmCExMP",
        "outputId": "d174000f-90f6-4cdb-8194-8298eea7eb71"
      },
      "execution_count": 3,
      "outputs": [
        {
          "output_type": "stream",
          "name": "stdout",
          "text": [
            "Using jax 0.4.8\n"
          ]
        }
      ]
    },
    {
      "cell_type": "code",
      "source": [
        "a = jnp.zeros((2, 5), dtype=jnp.float32)\n",
        "print(a)"
      ],
      "metadata": {
        "colab": {
          "base_uri": "https://localhost:8080/"
        },
        "id": "zWyuLJe7E4XD",
        "outputId": "3048b18c-fe74-4d7b-df3c-b7cca0a8c53d"
      },
      "execution_count": 4,
      "outputs": [
        {
          "output_type": "stream",
          "name": "stderr",
          "text": [
            "WARNING:jax._src.xla_bridge:No GPU/TPU found, falling back to CPU. (Set TF_CPP_MIN_LOG_LEVEL=0 and rerun for more info.)\n"
          ]
        },
        {
          "output_type": "stream",
          "name": "stdout",
          "text": [
            "[[0. 0. 0. 0. 0.]\n",
            " [0. 0. 0. 0. 0.]]\n"
          ]
        }
      ]
    },
    {
      "cell_type": "code",
      "source": [
        "b = jnp.arange(6)\n",
        "print(b)"
      ],
      "metadata": {
        "colab": {
          "base_uri": "https://localhost:8080/"
        },
        "id": "NUFTlb4RE8L8",
        "outputId": "eb487dda-052a-48ef-d954-a63eb8e269fb"
      },
      "execution_count": 5,
      "outputs": [
        {
          "output_type": "stream",
          "name": "stdout",
          "text": [
            "[0 1 2 3 4 5]\n"
          ]
        }
      ]
    },
    {
      "cell_type": "code",
      "source": [
        "b.__class__"
      ],
      "metadata": {
        "colab": {
          "base_uri": "https://localhost:8080/"
        },
        "id": "rX0vI-gPFBSe",
        "outputId": "ad00240a-a4c1-4a56-8552-dc88e66954ab"
      },
      "execution_count": 6,
      "outputs": [
        {
          "output_type": "execute_result",
          "data": {
            "text/plain": [
              "jaxlib.xla_extension.ArrayImpl"
            ]
          },
          "metadata": {},
          "execution_count": 6
        }
      ]
    },
    {
      "cell_type": "code",
      "source": [
        "b.device()"
      ],
      "metadata": {
        "colab": {
          "base_uri": "https://localhost:8080/"
        },
        "id": "XJhYy-tFFIZG",
        "outputId": "a61277a0-07c4-4412-c009-69a58667c997"
      },
      "execution_count": 7,
      "outputs": [
        {
          "output_type": "execute_result",
          "data": {
            "text/plain": [
              "CpuDevice(id=0)"
            ]
          },
          "metadata": {},
          "execution_count": 7
        }
      ]
    },
    {
      "cell_type": "code",
      "source": [
        "b_cpu = jax.device_get(b)\n",
        "print(b_cpu.__class__)"
      ],
      "metadata": {
        "colab": {
          "base_uri": "https://localhost:8080/"
        },
        "id": "bL0aEjipFXEt",
        "outputId": "1989e4eb-6fa2-4aea-8455-b0288d99caa6"
      },
      "execution_count": 8,
      "outputs": [
        {
          "output_type": "stream",
          "name": "stdout",
          "text": [
            "<class 'numpy.ndarray'>\n"
          ]
        }
      ]
    },
    {
      "cell_type": "code",
      "source": [
        "b_gpu = jax.device_put(b_cpu)\n",
        "print(f'Device put: {b_gpu.__class__} on {b_gpu.device()}')"
      ],
      "metadata": {
        "colab": {
          "base_uri": "https://localhost:8080/"
        },
        "id": "fDptbR7TFfQp",
        "outputId": "dc633269-c2b8-4591-bc44-7aaf5f3fa778"
      },
      "execution_count": 9,
      "outputs": [
        {
          "output_type": "stream",
          "name": "stdout",
          "text": [
            "Device put: <class 'jaxlib.xla_extension.ArrayImpl'> on TFRT_CPU_0\n"
          ]
        }
      ]
    },
    {
      "cell_type": "code",
      "source": [
        "b_cpu + b_gpu"
      ],
      "metadata": {
        "colab": {
          "base_uri": "https://localhost:8080/"
        },
        "id": "L7Oh3dAeFmAZ",
        "outputId": "0d313e63-d14c-41aa-bace-60eda1403548"
      },
      "execution_count": 10,
      "outputs": [
        {
          "output_type": "execute_result",
          "data": {
            "text/plain": [
              "Array([ 0,  2,  4,  6,  8, 10], dtype=int32)"
            ]
          },
          "metadata": {},
          "execution_count": 10
        }
      ]
    },
    {
      "cell_type": "code",
      "source": [
        "jax.devices()"
      ],
      "metadata": {
        "colab": {
          "base_uri": "https://localhost:8080/"
        },
        "id": "p-Q8bjRdFn7V",
        "outputId": "8b742db2-4710-4017-ff35-80d3270e412d"
      },
      "execution_count": 11,
      "outputs": [
        {
          "output_type": "execute_result",
          "data": {
            "text/plain": [
              "[CpuDevice(id=0)]"
            ]
          },
          "metadata": {},
          "execution_count": 11
        }
      ]
    },
    {
      "cell_type": "code",
      "source": [
        "b_new = b.at[0].set(1)\n",
        "print('Original array:', b)\n",
        "print('Changed array:', b_new)"
      ],
      "metadata": {
        "colab": {
          "base_uri": "https://localhost:8080/"
        },
        "id": "d7JdZa9zGuq7",
        "outputId": "fb8a4b6d-37da-478c-c0e0-df95171fa0a1"
      },
      "execution_count": 12,
      "outputs": [
        {
          "output_type": "stream",
          "name": "stdout",
          "text": [
            "Original array: [0 1 2 3 4 5]\n",
            "Changed array: [1 1 2 3 4 5]\n"
          ]
        }
      ]
    },
    {
      "cell_type": "code",
      "source": [
        "rng = jax.random.PRNGKey(42)"
      ],
      "metadata": {
        "id": "RXCqCXRxGyMj"
      },
      "execution_count": 13,
      "outputs": []
    },
    {
      "cell_type": "code",
      "source": [
        "# A non-desirable way of generating pseudo-random numbers...\n",
        "jax_random_number_1 = jax.random.normal(rng)\n",
        "jax_random_number_2 = jax.random.normal(rng)\n",
        "print('JAX - Random number 1:', jax_random_number_1)\n",
        "print('JAX - Random number 2:', jax_random_number_2)\n",
        "\n",
        "# Typical random numbers in NumPy\n",
        "np.random.seed(42)\n",
        "np_random_number_1 = np.random.normal()\n",
        "np_random_number_2 = np.random.normal()\n",
        "print('NumPy - Random number 1:', np_random_number_1)\n",
        "print('NumPy - Random number 2:', np_random_number_2)"
      ],
      "metadata": {
        "colab": {
          "base_uri": "https://localhost:8080/"
        },
        "id": "jnUwKaTOHHJT",
        "outputId": "4c55bcd7-a8f4-49af-b1c8-ef37f8d875fe"
      },
      "execution_count": 14,
      "outputs": [
        {
          "output_type": "stream",
          "name": "stdout",
          "text": [
            "JAX - Random number 1: -0.18471177\n",
            "JAX - Random number 2: -0.18471177\n",
            "NumPy - Random number 1: 0.4967141530112327\n",
            "NumPy - Random number 2: -0.13826430117118466\n"
          ]
        }
      ]
    },
    {
      "cell_type": "code",
      "source": [
        "rng, subkey1, subkey2 = jax.random.split(rng, num=3)  # We create 3 new keys\n",
        "jax_random_number_1 = jax.random.normal(subkey1)\n",
        "jax_random_number_2 = jax.random.normal(subkey2)\n",
        "print('JAX new - Random number 1:', jax_random_number_1)\n",
        "print('JAX new - Random number 2:', jax_random_number_2)"
      ],
      "metadata": {
        "colab": {
          "base_uri": "https://localhost:8080/"
        },
        "id": "XLWEe_bOHJ4N",
        "outputId": "3024bd3d-f958-4dde-af90-373416030e83"
      },
      "execution_count": 15,
      "outputs": [
        {
          "output_type": "stream",
          "name": "stdout",
          "text": [
            "JAX new - Random number 1: 0.107961535\n",
            "JAX new - Random number 2: -1.2226542\n"
          ]
        }
      ]
    },
    {
      "cell_type": "code",
      "source": [
        "def simple_graph(x):\n",
        "    x = x + 2\n",
        "    x = x ** 2\n",
        "    x = x + 3\n",
        "    y = x.mean()\n",
        "    return y\n",
        "\n",
        "inp = jnp.arange(3, dtype=jnp.float32)\n",
        "print('Input', inp)\n",
        "print('Output', simple_graph(inp))"
      ],
      "metadata": {
        "colab": {
          "base_uri": "https://localhost:8080/"
        },
        "id": "H8KmsUDEH1Dg",
        "outputId": "97aefe8a-d0a9-45ea-c805-dd6eb3c39425"
      },
      "execution_count": 16,
      "outputs": [
        {
          "output_type": "stream",
          "name": "stdout",
          "text": [
            "Input [0. 1. 2.]\n",
            "Output 12.666667\n"
          ]
        }
      ]
    },
    {
      "cell_type": "code",
      "source": [
        "jax.make_jaxpr(simple_graph)(inp)"
      ],
      "metadata": {
        "colab": {
          "base_uri": "https://localhost:8080/"
        },
        "id": "9ofLuY3VICbT",
        "outputId": "b7124365-e7ed-417f-c0c2-34e85809e728"
      },
      "execution_count": 17,
      "outputs": [
        {
          "output_type": "execute_result",
          "data": {
            "text/plain": [
              "{ lambda ; a:f32[3]. let\n",
              "    b:f32[3] = add a 2.0\n",
              "    c:f32[3] = integer_pow[y=2] b\n",
              "    d:f32[3] = add c 3.0\n",
              "    e:f32[] = reduce_sum[axes=(0,)] d\n",
              "    f:f32[] = div e 3.0\n",
              "  in (f,) }"
            ]
          },
          "metadata": {},
          "execution_count": 17
        }
      ]
    },
    {
      "cell_type": "code",
      "source": [
        "global_list = []\n",
        "\n",
        "# Invalid function with side-effect\n",
        "def norm(x):\n",
        "    global_list.append(x)\n",
        "    x = x ** 2\n",
        "    n = x.sum()\n",
        "    n = jnp.sqrt(n)\n",
        "    return n\n",
        "\n",
        "jax.make_jaxpr(norm)(inp)"
      ],
      "metadata": {
        "colab": {
          "base_uri": "https://localhost:8080/"
        },
        "id": "z9sY9vn6LNVt",
        "outputId": "63597422-88d7-4fdb-d338-2c779cc5048a"
      },
      "execution_count": 18,
      "outputs": [
        {
          "output_type": "execute_result",
          "data": {
            "text/plain": [
              "{ lambda ; a:f32[3]. let\n",
              "    b:f32[3] = integer_pow[y=2] a\n",
              "    c:f32[] = reduce_sum[axes=(0,)] b\n",
              "    d:f32[] = sqrt c\n",
              "  in (d,) }"
            ]
          },
          "metadata": {},
          "execution_count": 18
        }
      ]
    },
    {
      "cell_type": "code",
      "source": [
        "jaxpr ::= { lambda Var* ; Var+.\n",
        "            let Eqn*\n",
        "            in  [Expr+] }"
      ],
      "metadata": {
        "id": "dgWb6ZwFLNSO"
      },
      "execution_count": 18,
      "outputs": []
    },
    {
      "cell_type": "code",
      "source": [
        "grad_function = jax.grad(simple_graph)\n",
        "gradients = grad_function(inp)\n",
        "print('Gradient', gradients)"
      ],
      "metadata": {
        "colab": {
          "base_uri": "https://localhost:8080/"
        },
        "id": "pGDFZWVkL9AU",
        "outputId": "4d6749c5-59b7-466e-ee0b-1c4ec754a50f"
      },
      "execution_count": 19,
      "outputs": [
        {
          "output_type": "stream",
          "name": "stdout",
          "text": [
            "Gradient [1.3333334 2.        2.6666667]\n"
          ]
        }
      ]
    },
    {
      "cell_type": "code",
      "source": [
        "jax.make_jaxpr(grad_function)(inp)"
      ],
      "metadata": {
        "colab": {
          "base_uri": "https://localhost:8080/"
        },
        "id": "RWOpuSzxMGYW",
        "outputId": "eddbcf28-d606-4032-be1c-265450cf969b"
      },
      "execution_count": 20,
      "outputs": [
        {
          "output_type": "execute_result",
          "data": {
            "text/plain": [
              "{ lambda ; a:f32[3]. let\n",
              "    b:f32[3] = add a 2.0\n",
              "    c:f32[3] = integer_pow[y=2] b\n",
              "    d:f32[3] = integer_pow[y=1] b\n",
              "    e:f32[3] = mul 2.0 d\n",
              "    f:f32[3] = add c 3.0\n",
              "    g:f32[] = reduce_sum[axes=(0,)] f\n",
              "    _:f32[] = div g 3.0\n",
              "    h:f32[] = div 1.0 3.0\n",
              "    i:f32[3] = broadcast_in_dim[broadcast_dimensions=() shape=(3,)] h\n",
              "    j:f32[3] = mul i e\n",
              "  in (j,) }"
            ]
          },
          "metadata": {},
          "execution_count": 20
        }
      ]
    },
    {
      "cell_type": "code",
      "source": [
        "val_grad_function = jax.value_and_grad(simple_graph)\n",
        "val_grad_function(inp)"
      ],
      "metadata": {
        "colab": {
          "base_uri": "https://localhost:8080/"
        },
        "id": "KXBl-W65MVP8",
        "outputId": "0be09865-1744-4784-a025-f572eb2cbf4a"
      },
      "execution_count": 21,
      "outputs": [
        {
          "output_type": "execute_result",
          "data": {
            "text/plain": [
              "(Array(12.666667, dtype=float32),\n",
              " Array([1.3333334, 2.       , 2.6666667], dtype=float32))"
            ]
          },
          "metadata": {},
          "execution_count": 21
        }
      ]
    },
    {
      "cell_type": "code",
      "source": [
        "jitted_function = jax.jit(simple_graph)"
      ],
      "metadata": {
        "id": "qIF8AD1HNWS1"
      },
      "execution_count": 22,
      "outputs": []
    },
    {
      "cell_type": "code",
      "source": [
        "rng, normal_rng = jax.random.split(rng)\n",
        "large_input = jax.random.normal(normal_rng, (1000,))\n",
        "# Run the jitted function once to start compilation\n",
        "_ = jitted_function(large_input)"
      ],
      "metadata": {
        "id": "P3dVpEfsNkyp"
      },
      "execution_count": 23,
      "outputs": []
    },
    {
      "cell_type": "code",
      "source": [
        "%%timeit\n",
        "simple_graph(large_input).block_until_ready()"
      ],
      "metadata": {
        "colab": {
          "base_uri": "https://localhost:8080/"
        },
        "id": "ex2TeaVAN0sc",
        "outputId": "9805c16c-c0d9-4033-8e7d-5819b689edb0"
      },
      "execution_count": 24,
      "outputs": [
        {
          "output_type": "stream",
          "name": "stdout",
          "text": [
            "229 µs ± 9.21 µs per loop (mean ± std. dev. of 7 runs, 1000 loops each)\n"
          ]
        }
      ]
    },
    {
      "cell_type": "code",
      "source": [
        "%%timeit\n",
        "jitted_function(large_input).block_until_ready()"
      ],
      "metadata": {
        "colab": {
          "base_uri": "https://localhost:8080/"
        },
        "id": "uX0nvObrN5zK",
        "outputId": "dab097ab-b908-4d93-9f18-80c870821b9e"
      },
      "execution_count": 25,
      "outputs": [
        {
          "output_type": "stream",
          "name": "stdout",
          "text": [
            "8.22 µs ± 127 ns per loop (mean ± std. dev. of 7 runs, 100000 loops each)\n"
          ]
        }
      ]
    },
    {
      "cell_type": "code",
      "source": [
        "jitted_grad_function = jax.jit(grad_function)\n",
        "_ = jitted_grad_function(large_input)  # Apply once to compile"
      ],
      "metadata": {
        "id": "DkEG9yH2OHD0"
      },
      "execution_count": 26,
      "outputs": []
    },
    {
      "cell_type": "code",
      "source": [
        "%%timeit\n",
        "grad_function(large_input).block_until_ready()"
      ],
      "metadata": {
        "colab": {
          "base_uri": "https://localhost:8080/"
        },
        "id": "x-B1zxEdOJJq",
        "outputId": "eecd7a11-0049-40ac-b0d7-a91f522fb56a"
      },
      "execution_count": 27,
      "outputs": [
        {
          "output_type": "stream",
          "name": "stdout",
          "text": [
            "6.68 ms ± 1.04 ms per loop (mean ± std. dev. of 7 runs, 100 loops each)\n"
          ]
        }
      ]
    },
    {
      "cell_type": "code",
      "source": [
        "!pip install jraph"
      ],
      "metadata": {
        "colab": {
          "base_uri": "https://localhost:8080/"
        },
        "id": "Nl7jwn82On-j",
        "outputId": "38a1604e-44c6-49e4-967a-1f4635a5573a"
      },
      "execution_count": 28,
      "outputs": [
        {
          "output_type": "stream",
          "name": "stdout",
          "text": [
            "Looking in indexes: https://pypi.org/simple, https://us-python.pkg.dev/colab-wheels/public/simple/\n",
            "Collecting jraph\n",
            "  Downloading jraph-0.0.6.dev0-py3-none-any.whl (90 kB)\n",
            "\u001b[2K     \u001b[90m━━━━━━━━━━━━━━━━━━━━━━━━━━━━━━━━━━━━━━━━\u001b[0m \u001b[32m90.6/90.6 kB\u001b[0m \u001b[31m3.3 MB/s\u001b[0m eta \u001b[36m0:00:00\u001b[0m\n",
            "\u001b[?25hRequirement already satisfied: jax>=0.1.55 in /usr/local/lib/python3.10/dist-packages (from jraph) (0.4.8)\n",
            "Requirement already satisfied: jaxlib>=0.1.37 in /usr/local/lib/python3.10/dist-packages (from jraph) (0.4.7+cuda11.cudnn86)\n",
            "Requirement already satisfied: numpy>=1.18.0 in /usr/local/lib/python3.10/dist-packages (from jraph) (1.22.4)\n",
            "Requirement already satisfied: ml-dtypes>=0.0.3 in /usr/local/lib/python3.10/dist-packages (from jax>=0.1.55->jraph) (0.1.0)\n",
            "Requirement already satisfied: opt-einsum in /usr/local/lib/python3.10/dist-packages (from jax>=0.1.55->jraph) (3.3.0)\n",
            "Requirement already satisfied: scipy>=1.7 in /usr/local/lib/python3.10/dist-packages (from jax>=0.1.55->jraph) (1.10.1)\n",
            "Installing collected packages: jraph\n",
            "Successfully installed jraph-0.0.6.dev0\n"
          ]
        }
      ]
    },
    {
      "cell_type": "code",
      "source": [
        "from flax import linen as nn"
      ],
      "metadata": {
        "id": "7JU6N65_PAAA"
      },
      "execution_count": 29,
      "outputs": []
    },
    {
      "cell_type": "code",
      "source": [
        "class SimpleClassifier(nn.Module):\n",
        "    num_hidden : int   # Number of hidden neurons\n",
        "    num_outputs : int  # Number of output neurons\n",
        "\n",
        "    def setup(self):\n",
        "        # Create the modules we need to build the network\n",
        "        # nn.Dense is a linear layer\n",
        "        self.linear1 = nn.Dense(features=self.num_hidden)\n",
        "        self.linear2 = nn.Dense(features=self.num_outputs)\n",
        "\n",
        "    def __call__(self, x):\n",
        "        # Perform the calculation of the model to determine the prediction\n",
        "        x = self.linear1(x)\n",
        "        x = nn.tanh(x)\n",
        "        x = self.linear2(x)\n",
        "        return x"
      ],
      "metadata": {
        "id": "ksIuhCc0Pj5v"
      },
      "execution_count": 30,
      "outputs": []
    },
    {
      "cell_type": "markdown",
      "source": [
        "##### Compact defining of a neural net"
      ],
      "metadata": {
        "id": "iZXwyYFvQyBK"
      }
    },
    {
      "cell_type": "code",
      "source": [
        "class SimpleClassifierCompact(nn.Module):\n",
        "    num_hidden : int   # Number of hidden neurons\n",
        "    num_outputs : int  # Number of output neurons\n",
        "\n",
        "    @nn.compact  # Tells Flax to look for defined submodules\n",
        "    def __call__(self, x):\n",
        "        # Perform the calculation of the model to determine the prediction\n",
        "        # while defining necessary layers\n",
        "        x = nn.Dense(features=self.num_hidden)(x)\n",
        "        x = nn.tanh(x)\n",
        "        x = nn.Dense(features=self.num_outputs)(x)\n",
        "        return x"
      ],
      "metadata": {
        "id": "3lsNXEe1QwvF"
      },
      "execution_count": 31,
      "outputs": []
    },
    {
      "cell_type": "code",
      "source": [
        "model = SimpleClassifier(num_hidden=8, num_outputs=1)\n",
        "# Printing the model shows its attributes\n",
        "print(model)"
      ],
      "metadata": {
        "colab": {
          "base_uri": "https://localhost:8080/"
        },
        "id": "ZfuUnEtsROVg",
        "outputId": "ce1783c6-60a5-4fd2-c332-24ee81692441"
      },
      "execution_count": 32,
      "outputs": [
        {
          "output_type": "stream",
          "name": "stdout",
          "text": [
            "SimpleClassifier(\n",
            "    # attributes\n",
            "    num_hidden = 8\n",
            "    num_outputs = 1\n",
            ")\n"
          ]
        }
      ]
    },
    {
      "cell_type": "code",
      "source": [
        "rng, inp_rng, init_rng = jax.random.split(rng, 3)\n",
        "inp = jax.random.normal(inp_rng, (8, 2))  # Batch size 8, input size 2\n",
        "# Initialize the model\n",
        "params = model.init(init_rng, inp)\n",
        "print(params)"
      ],
      "metadata": {
        "colab": {
          "base_uri": "https://localhost:8080/"
        },
        "id": "bryuyGklRTx3",
        "outputId": "20ecb8de-90d6-44bb-8e6d-15196ef79e4f"
      },
      "execution_count": 33,
      "outputs": [
        {
          "output_type": "stream",
          "name": "stdout",
          "text": [
            "FrozenDict({\n",
            "    params: {\n",
            "        linear1: {\n",
            "            kernel: Array([[ 0.31476858, -0.46477678, -0.78620416, -0.48842612, -0.65373844,\n",
            "                     0.38925445,  0.3038055 ,  0.0417986 ],\n",
            "                   [-0.32982358,  1.1110363 ,  0.54909384, -0.81688154,  0.4005725 ,\n",
            "                    -0.86659867,  1.2087963 ,  1.0364621 ]], dtype=float32),\n",
            "            bias: Array([0., 0., 0., 0., 0., 0., 0., 0.], dtype=float32),\n",
            "        },\n",
            "        linear2: {\n",
            "            kernel: Array([[-0.2797181 ],\n",
            "                   [-0.74667746],\n",
            "                   [ 0.29791605],\n",
            "                   [-0.26267233],\n",
            "                   [-0.50843847],\n",
            "                   [ 0.04573093],\n",
            "                   [-0.4725701 ],\n",
            "                   [ 0.50458497]], dtype=float32),\n",
            "            bias: Array([0.], dtype=float32),\n",
            "        },\n",
            "    },\n",
            "})\n"
          ]
        }
      ]
    },
    {
      "cell_type": "code",
      "source": [
        "model.apply(params, inp)"
      ],
      "metadata": {
        "colab": {
          "base_uri": "https://localhost:8080/"
        },
        "id": "6JFWLTOxRpwZ",
        "outputId": "bc8a3e49-3391-42b7-f395-bdcc2e789a68"
      },
      "execution_count": 34,
      "outputs": [
        {
          "output_type": "execute_result",
          "data": {
            "text/plain": [
              "Array([[-0.4836821 ],\n",
              "       [ 0.04365462],\n",
              "       [ 0.0666853 ],\n",
              "       [-0.34203655],\n",
              "       [ 0.48351482],\n",
              "       [ 0.37424877],\n",
              "       [ 0.14232653],\n",
              "       [-0.5916512 ]], dtype=float32)"
            ]
          },
          "metadata": {},
          "execution_count": 34
        }
      ]
    },
    {
      "cell_type": "code",
      "source": [
        "import torch.utils.data as data"
      ],
      "metadata": {
        "id": "z7Oh2F7hTrBX"
      },
      "execution_count": 35,
      "outputs": []
    },
    {
      "cell_type": "code",
      "source": [
        "class XORDataset(data.Dataset):\n",
        "\n",
        "    def __init__(self, size, seed, std=0.1):\n",
        "        \"\"\"\n",
        "        Inputs:\n",
        "            size - Number of data points we want to generate\n",
        "            seed - The seed to use to create the PRNG state with which we want to generate the data points\n",
        "            std - Standard deviation of the noise (see generate_continuous_xor function)\n",
        "        \"\"\"\n",
        "        super().__init__()\n",
        "        self.size = size\n",
        "        self.np_rng = np.random.RandomState(seed=seed)\n",
        "        self.std = std\n",
        "        self.generate_continuous_xor()\n",
        "\n",
        "    def generate_continuous_xor(self):\n",
        "        # Each data point in the XOR dataset has two variables, x and y, that can be either 0 or 1\n",
        "        # The label is their XOR combination, i.e. 1 if only x or only y is 1 while the other is 0.\n",
        "        # If x=y, the label is 0.\n",
        "        data = self.np_rng.randint(low=0, high=2, size=(self.size, 2)).astype(np.float32)\n",
        "        label = (data.sum(axis=1) == 1).astype(np.int32)\n",
        "        # To make it slightly more challenging, we add a bit of gaussian noise to the data points.\n",
        "        data += self.np_rng.normal(loc=0.0, scale=self.std, size=data.shape)\n",
        "\n",
        "        self.data = data\n",
        "        self.label = label\n",
        "\n",
        "    def __len__(self):\n",
        "        # Number of data point we have. Alternatively self.data.shape[0], or self.label.shape[0]\n",
        "        return self.size\n",
        "\n",
        "    def __getitem__(self, idx):\n",
        "        # Return the idx-th data point of the dataset\n",
        "        # If we have multiple things to return (data point and label), we can return them as tuple\n",
        "        data_point = self.data[idx]\n",
        "        data_label = self.label[idx]\n",
        "        return data_point, data_label"
      ],
      "metadata": {
        "id": "hAyK07JsT81B"
      },
      "execution_count": 36,
      "outputs": []
    },
    {
      "cell_type": "code",
      "source": [
        "dataset = XORDataset(size=200, seed=42)\n",
        "print(\"Size of dataset:\", len(dataset))\n",
        "print(\"Data point 0:\", dataset[0])"
      ],
      "metadata": {
        "colab": {
          "base_uri": "https://localhost:8080/"
        },
        "id": "1K8fyrq6U3kq",
        "outputId": "55cdf957-010b-4b1c-e1ed-a3910b41dac7"
      },
      "execution_count": 37,
      "outputs": [
        {
          "output_type": "stream",
          "name": "stdout",
          "text": [
            "Size of dataset: 200\n",
            "Data point 0: (array([-0.06800247,  1.0232254 ], dtype=float32), 1)\n"
          ]
        }
      ]
    },
    {
      "cell_type": "code",
      "source": [
        "def visualize_samples(data, label):\n",
        "    data_0 = data[label == 0]\n",
        "    data_1 = data[label == 1]\n",
        "\n",
        "    plt.figure(figsize=(4,4))\n",
        "    plt.scatter(data_0[:,0], data_0[:,1], edgecolor=\"#333\", label=\"Class 0\")\n",
        "    plt.scatter(data_1[:,0], data_1[:,1], edgecolor=\"#333\", label=\"Class 1\")\n",
        "    plt.title(\"Dataset samples\")\n",
        "    plt.ylabel(r\"$x_2$\")\n",
        "    plt.xlabel(r\"$x_1$\")\n",
        "    plt.legend()"
      ],
      "metadata": {
        "id": "-L-Y1OBIU68B"
      },
      "execution_count": 38,
      "outputs": []
    },
    {
      "cell_type": "code",
      "source": [
        "visualize_samples(dataset.data, dataset.label)\n",
        "plt.show()"
      ],
      "metadata": {
        "colab": {
          "base_uri": "https://localhost:8080/",
          "height": 403
        },
        "id": "eGtlELRFVAzy",
        "outputId": "a8e4a28c-969b-42b2-ab47-3252e489d413"
      },
      "execution_count": 40,
      "outputs": [
        {
          "output_type": "display_data",
          "data": {
            "text/plain": [
              "<Figure size 400x400 with 1 Axes>"
            ],
            "image/svg+xml": "<?xml version=\"1.0\" encoding=\"utf-8\" standalone=\"no\"?>\n<!DOCTYPE svg PUBLIC \"-//W3C//DTD SVG 1.1//EN\"\n  \"http://www.w3.org/Graphics/SVG/1.1/DTD/svg11.dtd\">\n<svg xmlns:xlink=\"http://www.w3.org/1999/xlink\" width=\"289.424844pt\" height=\"287.037813pt\" viewBox=\"0 0 289.424844 287.037813\" xmlns=\"http://www.w3.org/2000/svg\" version=\"1.1\">\n <metadata>\n  <rdf:RDF xmlns:dc=\"http://purl.org/dc/elements/1.1/\" xmlns:cc=\"http://creativecommons.org/ns#\" xmlns:rdf=\"http://www.w3.org/1999/02/22-rdf-syntax-ns#\">\n   <cc:Work>\n    <dc:type rdf:resource=\"http://purl.org/dc/dcmitype/StillImage\"/>\n    <dc:date>2023-05-11T10:21:08.827367</dc:date>\n    <dc:format>image/svg+xml</dc:format>\n    <dc:creator>\n     <cc:Agent>\n      <dc:title>Matplotlib v3.7.1, https://matplotlib.org/</dc:title>\n     </cc:Agent>\n    </dc:creator>\n   </cc:Work>\n  </rdf:RDF>\n </metadata>\n <defs>\n  <style type=\"text/css\">*{stroke-linejoin: round; stroke-linecap: butt}</style>\n </defs>\n <g id=\"figure_1\">\n  <g id=\"patch_1\">\n   <path d=\"M 0 287.037813 \nL 289.424844 287.037813 \nL 289.424844 0 \nL 0 0 \nz\n\" style=\"fill: #ffffff\"/>\n  </g>\n  <g id=\"axes_1\">\n   <g id=\"patch_2\">\n    <path d=\"M 59.024844 244.078125 \nL 282.224844 244.078125 \nL 282.224844 22.318125 \nL 59.024844 22.318125 \nz\n\" style=\"fill: #eaeaf2\"/>\n   </g>\n   <g id=\"matplotlib.axis_1\">\n    <g id=\"xtick_1\">\n     <g id=\"line2d_1\">\n      <path d=\"M 98.338694 244.078125 \nL 98.338694 22.318125 \n\" clip-path=\"url(#p6777251e13)\" style=\"fill: none; stroke: #ffffff; stroke-linecap: round\"/>\n     </g>\n     <g id=\"text_1\">\n      <!-- 0.0 -->\n      <g style=\"fill: #262626\" transform=\"translate(89.591975 261.936406) scale(0.11 -0.11)\">\n       <defs>\n        <path id=\"DejaVuSans-30\" d=\"M 2034 4250 \nQ 1547 4250 1301 3770 \nQ 1056 3291 1056 2328 \nQ 1056 1369 1301 889 \nQ 1547 409 2034 409 \nQ 2525 409 2770 889 \nQ 3016 1369 3016 2328 \nQ 3016 3291 2770 3770 \nQ 2525 4250 2034 4250 \nz\nM 2034 4750 \nQ 2819 4750 3233 4129 \nQ 3647 3509 3647 2328 \nQ 3647 1150 3233 529 \nQ 2819 -91 2034 -91 \nQ 1250 -91 836 529 \nQ 422 1150 422 2328 \nQ 422 3509 836 4129 \nQ 1250 4750 2034 4750 \nz\n\" transform=\"scale(0.015625)\"/>\n        <path id=\"DejaVuSans-2e\" d=\"M 684 794 \nL 1344 794 \nL 1344 0 \nL 684 0 \nL 684 794 \nz\n\" transform=\"scale(0.015625)\"/>\n       </defs>\n       <use xlink:href=\"#DejaVuSans-30\"/>\n       <use xlink:href=\"#DejaVuSans-2e\" x=\"63.623047\"/>\n       <use xlink:href=\"#DejaVuSans-30\" x=\"95.410156\"/>\n      </g>\n     </g>\n    </g>\n    <g id=\"xtick_2\">\n     <g id=\"line2d_2\">\n      <path d=\"M 168.880926 244.078125 \nL 168.880926 22.318125 \n\" clip-path=\"url(#p6777251e13)\" style=\"fill: none; stroke: #ffffff; stroke-linecap: round\"/>\n     </g>\n     <g id=\"text_2\">\n      <!-- 0.5 -->\n      <g style=\"fill: #262626\" transform=\"translate(160.134208 261.936406) scale(0.11 -0.11)\">\n       <defs>\n        <path id=\"DejaVuSans-35\" d=\"M 691 4666 \nL 3169 4666 \nL 3169 4134 \nL 1269 4134 \nL 1269 2991 \nQ 1406 3038 1543 3061 \nQ 1681 3084 1819 3084 \nQ 2600 3084 3056 2656 \nQ 3513 2228 3513 1497 \nQ 3513 744 3044 326 \nQ 2575 -91 1722 -91 \nQ 1428 -91 1123 -41 \nQ 819 9 494 109 \nL 494 744 \nQ 775 591 1075 516 \nQ 1375 441 1709 441 \nQ 2250 441 2565 725 \nQ 2881 1009 2881 1497 \nQ 2881 1984 2565 2268 \nQ 2250 2553 1709 2553 \nQ 1456 2553 1204 2497 \nQ 953 2441 691 2322 \nL 691 4666 \nz\n\" transform=\"scale(0.015625)\"/>\n       </defs>\n       <use xlink:href=\"#DejaVuSans-30\"/>\n       <use xlink:href=\"#DejaVuSans-2e\" x=\"63.623047\"/>\n       <use xlink:href=\"#DejaVuSans-35\" x=\"95.410156\"/>\n      </g>\n     </g>\n    </g>\n    <g id=\"xtick_3\">\n     <g id=\"line2d_3\">\n      <path d=\"M 239.423158 244.078125 \nL 239.423158 22.318125 \n\" clip-path=\"url(#p6777251e13)\" style=\"fill: none; stroke: #ffffff; stroke-linecap: round\"/>\n     </g>\n     <g id=\"text_3\">\n      <!-- 1.0 -->\n      <g style=\"fill: #262626\" transform=\"translate(230.67644 261.936406) scale(0.11 -0.11)\">\n       <defs>\n        <path id=\"DejaVuSans-31\" d=\"M 794 531 \nL 1825 531 \nL 1825 4091 \nL 703 3866 \nL 703 4441 \nL 1819 4666 \nL 2450 4666 \nL 2450 531 \nL 3481 531 \nL 3481 0 \nL 794 0 \nL 794 531 \nz\n\" transform=\"scale(0.015625)\"/>\n       </defs>\n       <use xlink:href=\"#DejaVuSans-31\"/>\n       <use xlink:href=\"#DejaVuSans-2e\" x=\"63.623047\"/>\n       <use xlink:href=\"#DejaVuSans-30\" x=\"95.410156\"/>\n      </g>\n     </g>\n    </g>\n    <g id=\"text_4\">\n     <!-- $x_1$ -->\n     <g style=\"fill: #262626\" transform=\"translate(164.204844 277.342188) scale(0.12 -0.12)\">\n      <defs>\n       <path id=\"DejaVuSans-Oblique-78\" d=\"M 3841 3500 \nL 2234 1784 \nL 3219 0 \nL 2559 0 \nL 1819 1388 \nL 531 0 \nL -166 0 \nL 1556 1844 \nL 641 3500 \nL 1300 3500 \nL 1972 2234 \nL 3144 3500 \nL 3841 3500 \nz\n\" transform=\"scale(0.015625)\"/>\n      </defs>\n      <use xlink:href=\"#DejaVuSans-Oblique-78\" transform=\"translate(0 0.3125)\"/>\n      <use xlink:href=\"#DejaVuSans-31\" transform=\"translate(59.179688 -16.09375) scale(0.7)\"/>\n     </g>\n    </g>\n   </g>\n   <g id=\"matplotlib.axis_2\">\n    <g id=\"ytick_1\">\n     <g id=\"line2d_4\">\n      <path d=\"M 59.024844 234.65645 \nL 282.224844 234.65645 \n\" clip-path=\"url(#p6777251e13)\" style=\"fill: none; stroke: #ffffff; stroke-linecap: round\"/>\n     </g>\n     <g id=\"text_5\">\n      <!-- −0.2 -->\n      <g style=\"fill: #262626\" transform=\"translate(22.81375 238.835591) scale(0.11 -0.11)\">\n       <defs>\n        <path id=\"DejaVuSans-2212\" d=\"M 678 2272 \nL 4684 2272 \nL 4684 1741 \nL 678 1741 \nL 678 2272 \nz\n\" transform=\"scale(0.015625)\"/>\n        <path id=\"DejaVuSans-32\" d=\"M 1228 531 \nL 3431 531 \nL 3431 0 \nL 469 0 \nL 469 531 \nQ 828 903 1448 1529 \nQ 2069 2156 2228 2338 \nQ 2531 2678 2651 2914 \nQ 2772 3150 2772 3378 \nQ 2772 3750 2511 3984 \nQ 2250 4219 1831 4219 \nQ 1534 4219 1204 4116 \nQ 875 4013 500 3803 \nL 500 4441 \nQ 881 4594 1212 4672 \nQ 1544 4750 1819 4750 \nQ 2544 4750 2975 4387 \nQ 3406 4025 3406 3419 \nQ 3406 3131 3298 2873 \nQ 3191 2616 2906 2266 \nQ 2828 2175 2409 1742 \nQ 1991 1309 1228 531 \nz\n\" transform=\"scale(0.015625)\"/>\n       </defs>\n       <use xlink:href=\"#DejaVuSans-2212\"/>\n       <use xlink:href=\"#DejaVuSans-30\" x=\"83.789062\"/>\n       <use xlink:href=\"#DejaVuSans-2e\" x=\"147.412109\"/>\n       <use xlink:href=\"#DejaVuSans-32\" x=\"179.199219\"/>\n      </g>\n     </g>\n    </g>\n    <g id=\"ytick_2\">\n     <g id=\"line2d_5\">\n      <path d=\"M 59.024844 207.176015 \nL 282.224844 207.176015 \n\" clip-path=\"url(#p6777251e13)\" style=\"fill: none; stroke: #ffffff; stroke-linecap: round\"/>\n     </g>\n     <g id=\"text_6\">\n      <!-- 0.0 -->\n      <g style=\"fill: #262626\" transform=\"translate(32.031406 211.355155) scale(0.11 -0.11)\">\n       <use xlink:href=\"#DejaVuSans-30\"/>\n       <use xlink:href=\"#DejaVuSans-2e\" x=\"63.623047\"/>\n       <use xlink:href=\"#DejaVuSans-30\" x=\"95.410156\"/>\n      </g>\n     </g>\n    </g>\n    <g id=\"ytick_3\">\n     <g id=\"line2d_6\">\n      <path d=\"M 59.024844 179.695579 \nL 282.224844 179.695579 \n\" clip-path=\"url(#p6777251e13)\" style=\"fill: none; stroke: #ffffff; stroke-linecap: round\"/>\n     </g>\n     <g id=\"text_7\">\n      <!-- 0.2 -->\n      <g style=\"fill: #262626\" transform=\"translate(32.031406 183.87472) scale(0.11 -0.11)\">\n       <use xlink:href=\"#DejaVuSans-30\"/>\n       <use xlink:href=\"#DejaVuSans-2e\" x=\"63.623047\"/>\n       <use xlink:href=\"#DejaVuSans-32\" x=\"95.410156\"/>\n      </g>\n     </g>\n    </g>\n    <g id=\"ytick_4\">\n     <g id=\"line2d_7\">\n      <path d=\"M 59.024844 152.215144 \nL 282.224844 152.215144 \n\" clip-path=\"url(#p6777251e13)\" style=\"fill: none; stroke: #ffffff; stroke-linecap: round\"/>\n     </g>\n     <g id=\"text_8\">\n      <!-- 0.4 -->\n      <g style=\"fill: #262626\" transform=\"translate(32.031406 156.394284) scale(0.11 -0.11)\">\n       <defs>\n        <path id=\"DejaVuSans-34\" d=\"M 2419 4116 \nL 825 1625 \nL 2419 1625 \nL 2419 4116 \nz\nM 2253 4666 \nL 3047 4666 \nL 3047 1625 \nL 3713 1625 \nL 3713 1100 \nL 3047 1100 \nL 3047 0 \nL 2419 0 \nL 2419 1100 \nL 313 1100 \nL 313 1709 \nL 2253 4666 \nz\n\" transform=\"scale(0.015625)\"/>\n       </defs>\n       <use xlink:href=\"#DejaVuSans-30\"/>\n       <use xlink:href=\"#DejaVuSans-2e\" x=\"63.623047\"/>\n       <use xlink:href=\"#DejaVuSans-34\" x=\"95.410156\"/>\n      </g>\n     </g>\n    </g>\n    <g id=\"ytick_5\">\n     <g id=\"line2d_8\">\n      <path d=\"M 59.024844 124.734708 \nL 282.224844 124.734708 \n\" clip-path=\"url(#p6777251e13)\" style=\"fill: none; stroke: #ffffff; stroke-linecap: round\"/>\n     </g>\n     <g id=\"text_9\">\n      <!-- 0.6 -->\n      <g style=\"fill: #262626\" transform=\"translate(32.031406 128.913849) scale(0.11 -0.11)\">\n       <defs>\n        <path id=\"DejaVuSans-36\" d=\"M 2113 2584 \nQ 1688 2584 1439 2293 \nQ 1191 2003 1191 1497 \nQ 1191 994 1439 701 \nQ 1688 409 2113 409 \nQ 2538 409 2786 701 \nQ 3034 994 3034 1497 \nQ 3034 2003 2786 2293 \nQ 2538 2584 2113 2584 \nz\nM 3366 4563 \nL 3366 3988 \nQ 3128 4100 2886 4159 \nQ 2644 4219 2406 4219 \nQ 1781 4219 1451 3797 \nQ 1122 3375 1075 2522 \nQ 1259 2794 1537 2939 \nQ 1816 3084 2150 3084 \nQ 2853 3084 3261 2657 \nQ 3669 2231 3669 1497 \nQ 3669 778 3244 343 \nQ 2819 -91 2113 -91 \nQ 1303 -91 875 529 \nQ 447 1150 447 2328 \nQ 447 3434 972 4092 \nQ 1497 4750 2381 4750 \nQ 2619 4750 2861 4703 \nQ 3103 4656 3366 4563 \nz\n\" transform=\"scale(0.015625)\"/>\n       </defs>\n       <use xlink:href=\"#DejaVuSans-30\"/>\n       <use xlink:href=\"#DejaVuSans-2e\" x=\"63.623047\"/>\n       <use xlink:href=\"#DejaVuSans-36\" x=\"95.410156\"/>\n      </g>\n     </g>\n    </g>\n    <g id=\"ytick_6\">\n     <g id=\"line2d_9\">\n      <path d=\"M 59.024844 97.254273 \nL 282.224844 97.254273 \n\" clip-path=\"url(#p6777251e13)\" style=\"fill: none; stroke: #ffffff; stroke-linecap: round\"/>\n     </g>\n     <g id=\"text_10\">\n      <!-- 0.8 -->\n      <g style=\"fill: #262626\" transform=\"translate(32.031406 101.433413) scale(0.11 -0.11)\">\n       <defs>\n        <path id=\"DejaVuSans-38\" d=\"M 2034 2216 \nQ 1584 2216 1326 1975 \nQ 1069 1734 1069 1313 \nQ 1069 891 1326 650 \nQ 1584 409 2034 409 \nQ 2484 409 2743 651 \nQ 3003 894 3003 1313 \nQ 3003 1734 2745 1975 \nQ 2488 2216 2034 2216 \nz\nM 1403 2484 \nQ 997 2584 770 2862 \nQ 544 3141 544 3541 \nQ 544 4100 942 4425 \nQ 1341 4750 2034 4750 \nQ 2731 4750 3128 4425 \nQ 3525 4100 3525 3541 \nQ 3525 3141 3298 2862 \nQ 3072 2584 2669 2484 \nQ 3125 2378 3379 2068 \nQ 3634 1759 3634 1313 \nQ 3634 634 3220 271 \nQ 2806 -91 2034 -91 \nQ 1263 -91 848 271 \nQ 434 634 434 1313 \nQ 434 1759 690 2068 \nQ 947 2378 1403 2484 \nz\nM 1172 3481 \nQ 1172 3119 1398 2916 \nQ 1625 2713 2034 2713 \nQ 2441 2713 2670 2916 \nQ 2900 3119 2900 3481 \nQ 2900 3844 2670 4047 \nQ 2441 4250 2034 4250 \nQ 1625 4250 1398 4047 \nQ 1172 3844 1172 3481 \nz\n\" transform=\"scale(0.015625)\"/>\n       </defs>\n       <use xlink:href=\"#DejaVuSans-30\"/>\n       <use xlink:href=\"#DejaVuSans-2e\" x=\"63.623047\"/>\n       <use xlink:href=\"#DejaVuSans-38\" x=\"95.410156\"/>\n      </g>\n     </g>\n    </g>\n    <g id=\"ytick_7\">\n     <g id=\"line2d_10\">\n      <path d=\"M 59.024844 69.773837 \nL 282.224844 69.773837 \n\" clip-path=\"url(#p6777251e13)\" style=\"fill: none; stroke: #ffffff; stroke-linecap: round\"/>\n     </g>\n     <g id=\"text_11\">\n      <!-- 1.0 -->\n      <g style=\"fill: #262626\" transform=\"translate(32.031406 73.952978) scale(0.11 -0.11)\">\n       <use xlink:href=\"#DejaVuSans-31\"/>\n       <use xlink:href=\"#DejaVuSans-2e\" x=\"63.623047\"/>\n       <use xlink:href=\"#DejaVuSans-30\" x=\"95.410156\"/>\n      </g>\n     </g>\n    </g>\n    <g id=\"ytick_8\">\n     <g id=\"line2d_11\">\n      <path d=\"M 59.024844 42.293402 \nL 282.224844 42.293402 \n\" clip-path=\"url(#p6777251e13)\" style=\"fill: none; stroke: #ffffff; stroke-linecap: round\"/>\n     </g>\n     <g id=\"text_12\">\n      <!-- 1.2 -->\n      <g style=\"fill: #262626\" transform=\"translate(32.031406 46.472542) scale(0.11 -0.11)\">\n       <use xlink:href=\"#DejaVuSans-31\"/>\n       <use xlink:href=\"#DejaVuSans-2e\" x=\"63.623047\"/>\n       <use xlink:href=\"#DejaVuSans-32\" x=\"95.410156\"/>\n      </g>\n     </g>\n    </g>\n    <g id=\"text_13\">\n     <!-- $x_2$ -->\n     <g style=\"fill: #262626\" transform=\"translate(16.318125 139.618125) rotate(-90) scale(0.12 -0.12)\">\n      <use xlink:href=\"#DejaVuSans-Oblique-78\" transform=\"translate(0 0.3125)\"/>\n      <use xlink:href=\"#DejaVuSans-32\" transform=\"translate(59.179688 -16.09375) scale(0.7)\"/>\n     </g>\n    </g>\n   </g>\n   <g id=\"PathCollection_1\">\n    <defs>\n     <path id=\"mda1492b2e9\" d=\"M 0 3 \nC 0.795609 3 1.55874 2.683901 2.12132 2.12132 \nC 2.683901 1.55874 3 0.795609 3 0 \nC 3 -0.795609 2.683901 -1.55874 2.12132 -2.12132 \nC 1.55874 -2.683901 0.795609 -3 0 -3 \nC -0.795609 -3 -1.55874 -2.683901 -2.12132 -2.12132 \nC -2.683901 -1.55874 -3 -0.795609 -3 0 \nC -3 0.795609 -2.683901 1.55874 -2.12132 2.12132 \nC -1.55874 2.683901 -0.795609 3 0 3 \nz\n\" style=\"stroke: #333333\"/>\n    </defs>\n    <g clip-path=\"url(#p6777251e13)\">\n     <use xlink:href=\"#mda1492b2e9\" x=\"102.473492\" y=\"216.991358\" style=\"fill: #4c72b0; stroke: #333333\"/>\n     <use xlink:href=\"#mda1492b2e9\" x=\"81.531253\" y=\"198.154825\" style=\"fill: #4c72b0; stroke: #333333\"/>\n     <use xlink:href=\"#mda1492b2e9\" x=\"114.684678\" y=\"218.452369\" style=\"fill: #4c72b0; stroke: #333333\"/>\n     <use xlink:href=\"#mda1492b2e9\" x=\"111.930435\" y=\"201.504315\" style=\"fill: #4c72b0; stroke: #333333\"/>\n     <use xlink:href=\"#mda1492b2e9\" x=\"235.961113\" y=\"80.130332\" style=\"fill: #4c72b0; stroke: #333333\"/>\n     <use xlink:href=\"#mda1492b2e9\" x=\"243.326835\" y=\"58.408153\" style=\"fill: #4c72b0; stroke: #333333\"/>\n     <use xlink:href=\"#mda1492b2e9\" x=\"239.606599\" y=\"49.801958\" style=\"fill: #4c72b0; stroke: #333333\"/>\n     <use xlink:href=\"#mda1492b2e9\" x=\"235.689266\" y=\"32.398125\" style=\"fill: #4c72b0; stroke: #333333\"/>\n     <use xlink:href=\"#mda1492b2e9\" x=\"248.250356\" y=\"81.551371\" style=\"fill: #4c72b0; stroke: #333333\"/>\n     <use xlink:href=\"#mda1492b2e9\" x=\"83.230065\" y=\"200.546739\" style=\"fill: #4c72b0; stroke: #333333\"/>\n     <use xlink:href=\"#mda1492b2e9\" x=\"236.270449\" y=\"59.963315\" style=\"fill: #4c72b0; stroke: #333333\"/>\n     <use xlink:href=\"#mda1492b2e9\" x=\"92.039062\" y=\"195.408909\" style=\"fill: #4c72b0; stroke: #333333\"/>\n     <use xlink:href=\"#mda1492b2e9\" x=\"101.359224\" y=\"224.292737\" style=\"fill: #4c72b0; stroke: #333333\"/>\n     <use xlink:href=\"#mda1492b2e9\" x=\"241.866478\" y=\"64.479487\" style=\"fill: #4c72b0; stroke: #333333\"/>\n     <use xlink:href=\"#mda1492b2e9\" x=\"226.953301\" y=\"67.66162\" style=\"fill: #4c72b0; stroke: #333333\"/>\n     <use xlink:href=\"#mda1492b2e9\" x=\"244.470986\" y=\"62.068538\" style=\"fill: #4c72b0; stroke: #333333\"/>\n     <use xlink:href=\"#mda1492b2e9\" x=\"106.393072\" y=\"191.573095\" style=\"fill: #4c72b0; stroke: #333333\"/>\n     <use xlink:href=\"#mda1492b2e9\" x=\"111.798177\" y=\"198.225757\" style=\"fill: #4c72b0; stroke: #333333\"/>\n     <use xlink:href=\"#mda1492b2e9\" x=\"93.890735\" y=\"196.747613\" style=\"fill: #4c72b0; stroke: #333333\"/>\n     <use xlink:href=\"#mda1492b2e9\" x=\"272.079389\" y=\"95.430466\" style=\"fill: #4c72b0; stroke: #333333\"/>\n     <use xlink:href=\"#mda1492b2e9\" x=\"249.105227\" y=\"91.932902\" style=\"fill: #4c72b0; stroke: #333333\"/>\n     <use xlink:href=\"#mda1492b2e9\" x=\"229.331339\" y=\"60.436015\" style=\"fill: #4c72b0; stroke: #333333\"/>\n     <use xlink:href=\"#mda1492b2e9\" x=\"69.767078\" y=\"204.614092\" style=\"fill: #4c72b0; stroke: #333333\"/>\n     <use xlink:href=\"#mda1492b2e9\" x=\"228.241923\" y=\"71.350342\" style=\"fill: #4c72b0; stroke: #333333\"/>\n     <use xlink:href=\"#mda1492b2e9\" x=\"246.547744\" y=\"57.878174\" style=\"fill: #4c72b0; stroke: #333333\"/>\n     <use xlink:href=\"#mda1492b2e9\" x=\"222.488843\" y=\"74.369957\" style=\"fill: #4c72b0; stroke: #333333\"/>\n     <use xlink:href=\"#mda1492b2e9\" x=\"232.722418\" y=\"78.750727\" style=\"fill: #4c72b0; stroke: #333333\"/>\n     <use xlink:href=\"#mda1492b2e9\" x=\"264.330969\" y=\"64.209305\" style=\"fill: #4c72b0; stroke: #333333\"/>\n     <use xlink:href=\"#mda1492b2e9\" x=\"217.987207\" y=\"76.427319\" style=\"fill: #4c72b0; stroke: #333333\"/>\n     <use xlink:href=\"#mda1492b2e9\" x=\"257.297305\" y=\"79.497367\" style=\"fill: #4c72b0; stroke: #333333\"/>\n     <use xlink:href=\"#mda1492b2e9\" x=\"245.684766\" y=\"59.130199\" style=\"fill: #4c72b0; stroke: #333333\"/>\n     <use xlink:href=\"#mda1492b2e9\" x=\"235.859815\" y=\"86.918651\" style=\"fill: #4c72b0; stroke: #333333\"/>\n     <use xlink:href=\"#mda1492b2e9\" x=\"241.024708\" y=\"60.676025\" style=\"fill: #4c72b0; stroke: #333333\"/>\n     <use xlink:href=\"#mda1492b2e9\" x=\"128.432482\" y=\"233.998125\" style=\"fill: #4c72b0; stroke: #333333\"/>\n     <use xlink:href=\"#mda1492b2e9\" x=\"96.197242\" y=\"199.092408\" style=\"fill: #4c72b0; stroke: #333333\"/>\n     <use xlink:href=\"#mda1492b2e9\" x=\"102.303053\" y=\"215.732042\" style=\"fill: #4c72b0; stroke: #333333\"/>\n     <use xlink:href=\"#mda1492b2e9\" x=\"95.402413\" y=\"213.949955\" style=\"fill: #4c72b0; stroke: #333333\"/>\n     <use xlink:href=\"#mda1492b2e9\" x=\"244.460087\" y=\"79.294563\" style=\"fill: #4c72b0; stroke: #333333\"/>\n     <use xlink:href=\"#mda1492b2e9\" x=\"109.806916\" y=\"198.524777\" style=\"fill: #4c72b0; stroke: #333333\"/>\n     <use xlink:href=\"#mda1492b2e9\" x=\"108.881846\" y=\"198.789394\" style=\"fill: #4c72b0; stroke: #333333\"/>\n     <use xlink:href=\"#mda1492b2e9\" x=\"98.043805\" y=\"205.563911\" style=\"fill: #4c72b0; stroke: #333333\"/>\n     <use xlink:href=\"#mda1492b2e9\" x=\"109.984037\" y=\"195.998214\" style=\"fill: #4c72b0; stroke: #333333\"/>\n     <use xlink:href=\"#mda1492b2e9\" x=\"257.841436\" y=\"69.485245\" style=\"fill: #4c72b0; stroke: #333333\"/>\n     <use xlink:href=\"#mda1492b2e9\" x=\"255.762307\" y=\"58.896216\" style=\"fill: #4c72b0; stroke: #333333\"/>\n     <use xlink:href=\"#mda1492b2e9\" x=\"107.144055\" y=\"198.54241\" style=\"fill: #4c72b0; stroke: #333333\"/>\n     <use xlink:href=\"#mda1492b2e9\" x=\"98.165911\" y=\"219.504485\" style=\"fill: #4c72b0; stroke: #333333\"/>\n     <use xlink:href=\"#mda1492b2e9\" x=\"99.408179\" y=\"216.480364\" style=\"fill: #4c72b0; stroke: #333333\"/>\n     <use xlink:href=\"#mda1492b2e9\" x=\"86.692211\" y=\"211.591926\" style=\"fill: #4c72b0; stroke: #333333\"/>\n     <use xlink:href=\"#mda1492b2e9\" x=\"101.794792\" y=\"214.141524\" style=\"fill: #4c72b0; stroke: #333333\"/>\n     <use xlink:href=\"#mda1492b2e9\" x=\"91.693076\" y=\"203.987598\" style=\"fill: #4c72b0; stroke: #333333\"/>\n     <use xlink:href=\"#mda1492b2e9\" x=\"229.28703\" y=\"72.706648\" style=\"fill: #4c72b0; stroke: #333333\"/>\n     <use xlink:href=\"#mda1492b2e9\" x=\"102.725117\" y=\"186.904299\" style=\"fill: #4c72b0; stroke: #333333\"/>\n     <use xlink:href=\"#mda1492b2e9\" x=\"98.070405\" y=\"220.950986\" style=\"fill: #4c72b0; stroke: #333333\"/>\n     <use xlink:href=\"#mda1492b2e9\" x=\"243.976217\" y=\"81.140168\" style=\"fill: #4c72b0; stroke: #333333\"/>\n     <use xlink:href=\"#mda1492b2e9\" x=\"96.804258\" y=\"201.656408\" style=\"fill: #4c72b0; stroke: #333333\"/>\n     <use xlink:href=\"#mda1492b2e9\" x=\"108.075554\" y=\"212.688871\" style=\"fill: #4c72b0; stroke: #333333\"/>\n     <use xlink:href=\"#mda1492b2e9\" x=\"101.500291\" y=\"207.002992\" style=\"fill: #4c72b0; stroke: #333333\"/>\n     <use xlink:href=\"#mda1492b2e9\" x=\"118.812076\" y=\"193.995425\" style=\"fill: #4c72b0; stroke: #333333\"/>\n     <use xlink:href=\"#mda1492b2e9\" x=\"269.801212\" y=\"80.317363\" style=\"fill: #4c72b0; stroke: #333333\"/>\n     <use xlink:href=\"#mda1492b2e9\" x=\"251.730254\" y=\"67.254685\" style=\"fill: #4c72b0; stroke: #333333\"/>\n     <use xlink:href=\"#mda1492b2e9\" x=\"86.491523\" y=\"215.4118\" style=\"fill: #4c72b0; stroke: #333333\"/>\n     <use xlink:href=\"#mda1492b2e9\" x=\"209.458287\" y=\"76.997829\" style=\"fill: #4c72b0; stroke: #333333\"/>\n     <use xlink:href=\"#mda1492b2e9\" x=\"228.712978\" y=\"67.707401\" style=\"fill: #4c72b0; stroke: #333333\"/>\n     <use xlink:href=\"#mda1492b2e9\" x=\"244.24481\" y=\"43.994844\" style=\"fill: #4c72b0; stroke: #333333\"/>\n     <use xlink:href=\"#mda1492b2e9\" x=\"252.832157\" y=\"77.700621\" style=\"fill: #4c72b0; stroke: #333333\"/>\n     <use xlink:href=\"#mda1492b2e9\" x=\"96.722715\" y=\"190.168149\" style=\"fill: #4c72b0; stroke: #333333\"/>\n     <use xlink:href=\"#mda1492b2e9\" x=\"75.843797\" y=\"215.411558\" style=\"fill: #4c72b0; stroke: #333333\"/>\n     <use xlink:href=\"#mda1492b2e9\" x=\"83.276228\" y=\"209.13234\" style=\"fill: #4c72b0; stroke: #333333\"/>\n     <use xlink:href=\"#mda1492b2e9\" x=\"103.027129\" y=\"217.460382\" style=\"fill: #4c72b0; stroke: #333333\"/>\n     <use xlink:href=\"#mda1492b2e9\" x=\"256.061207\" y=\"68.846112\" style=\"fill: #4c72b0; stroke: #333333\"/>\n     <use xlink:href=\"#mda1492b2e9\" x=\"127.412645\" y=\"183.057249\" style=\"fill: #4c72b0; stroke: #333333\"/>\n     <use xlink:href=\"#mda1492b2e9\" x=\"235.910657\" y=\"56.424237\" style=\"fill: #4c72b0; stroke: #333333\"/>\n     <use xlink:href=\"#mda1492b2e9\" x=\"248.528417\" y=\"50.968547\" style=\"fill: #4c72b0; stroke: #333333\"/>\n     <use xlink:href=\"#mda1492b2e9\" x=\"235.622244\" y=\"59.914651\" style=\"fill: #4c72b0; stroke: #333333\"/>\n     <use xlink:href=\"#mda1492b2e9\" x=\"74.306614\" y=\"207.939252\" style=\"fill: #4c72b0; stroke: #333333\"/>\n     <use xlink:href=\"#mda1492b2e9\" x=\"69.170298\" y=\"208.400543\" style=\"fill: #4c72b0; stroke: #333333\"/>\n     <use xlink:href=\"#mda1492b2e9\" x=\"244.595292\" y=\"82.687993\" style=\"fill: #4c72b0; stroke: #333333\"/>\n     <use xlink:href=\"#mda1492b2e9\" x=\"84.431631\" y=\"200.250305\" style=\"fill: #4c72b0; stroke: #333333\"/>\n     <use xlink:href=\"#mda1492b2e9\" x=\"231.61203\" y=\"86.232943\" style=\"fill: #4c72b0; stroke: #333333\"/>\n     <use xlink:href=\"#mda1492b2e9\" x=\"267.14238\" y=\"69.289312\" style=\"fill: #4c72b0; stroke: #333333\"/>\n     <use xlink:href=\"#mda1492b2e9\" x=\"90.854147\" y=\"215.087882\" style=\"fill: #4c72b0; stroke: #333333\"/>\n     <use xlink:href=\"#mda1492b2e9\" x=\"262.631098\" y=\"73.195645\" style=\"fill: #4c72b0; stroke: #333333\"/>\n     <use xlink:href=\"#mda1492b2e9\" x=\"247.557481\" y=\"65.497185\" style=\"fill: #4c72b0; stroke: #333333\"/>\n     <use xlink:href=\"#mda1492b2e9\" x=\"141.776921\" y=\"191.792812\" style=\"fill: #4c72b0; stroke: #333333\"/>\n     <use xlink:href=\"#mda1492b2e9\" x=\"237.618441\" y=\"82.903172\" style=\"fill: #4c72b0; stroke: #333333\"/>\n     <use xlink:href=\"#mda1492b2e9\" x=\"75.674232\" y=\"204.38038\" style=\"fill: #4c72b0; stroke: #333333\"/>\n     <use xlink:href=\"#mda1492b2e9\" x=\"230.301022\" y=\"84.634538\" style=\"fill: #4c72b0; stroke: #333333\"/>\n     <use xlink:href=\"#mda1492b2e9\" x=\"122.141642\" y=\"195.062092\" style=\"fill: #4c72b0; stroke: #333333\"/>\n     <use xlink:href=\"#mda1492b2e9\" x=\"239.310676\" y=\"49.439084\" style=\"fill: #4c72b0; stroke: #333333\"/>\n     <use xlink:href=\"#mda1492b2e9\" x=\"83.704763\" y=\"209.791309\" style=\"fill: #4c72b0; stroke: #333333\"/>\n     <use xlink:href=\"#mda1492b2e9\" x=\"240.107725\" y=\"81.191273\" style=\"fill: #4c72b0; stroke: #333333\"/>\n     <use xlink:href=\"#mda1492b2e9\" x=\"102.15442\" y=\"207.866297\" style=\"fill: #4c72b0; stroke: #333333\"/>\n     <use xlink:href=\"#mda1492b2e9\" x=\"105.405857\" y=\"220.607836\" style=\"fill: #4c72b0; stroke: #333333\"/>\n     <use xlink:href=\"#mda1492b2e9\" x=\"240.824583\" y=\"59.449618\" style=\"fill: #4c72b0; stroke: #333333\"/>\n     <use xlink:href=\"#mda1492b2e9\" x=\"74.78598\" y=\"199.710127\" style=\"fill: #4c72b0; stroke: #333333\"/>\n     <use xlink:href=\"#mda1492b2e9\" x=\"230.074568\" y=\"61.933685\" style=\"fill: #4c72b0; stroke: #333333\"/>\n     <use xlink:href=\"#mda1492b2e9\" x=\"228.654761\" y=\"94.573313\" style=\"fill: #4c72b0; stroke: #333333\"/>\n     <use xlink:href=\"#mda1492b2e9\" x=\"238.490871\" y=\"86.413463\" style=\"fill: #4c72b0; stroke: #333333\"/>\n     <use xlink:href=\"#mda1492b2e9\" x=\"112.535922\" y=\"215.102634\" style=\"fill: #4c72b0; stroke: #333333\"/>\n     <use xlink:href=\"#mda1492b2e9\" x=\"110.129012\" y=\"222.698433\" style=\"fill: #4c72b0; stroke: #333333\"/>\n     <use xlink:href=\"#mda1492b2e9\" x=\"105.813408\" y=\"187.368548\" style=\"fill: #4c72b0; stroke: #333333\"/>\n     <use xlink:href=\"#mda1492b2e9\" x=\"204.552098\" y=\"80.723348\" style=\"fill: #4c72b0; stroke: #333333\"/>\n     <use xlink:href=\"#mda1492b2e9\" x=\"244.659455\" y=\"78.072725\" style=\"fill: #4c72b0; stroke: #333333\"/>\n    </g>\n   </g>\n   <g id=\"PathCollection_2\">\n    <defs>\n     <path id=\"mdd3375d543\" d=\"M 0 3 \nC 0.795609 3 1.55874 2.683901 2.12132 2.12132 \nC 2.683901 1.55874 3 0.795609 3 0 \nC 3 -0.795609 2.683901 -1.55874 2.12132 -2.12132 \nC 1.55874 -2.683901 0.795609 -3 0 -3 \nC -0.795609 -3 -1.55874 -2.683901 -2.12132 -2.12132 \nC -2.683901 -1.55874 -3 -0.795609 -3 0 \nC -3 0.795609 -2.683901 1.55874 -2.12132 2.12132 \nC -1.55874 2.683901 -0.795609 3 0 3 \nz\n\" style=\"stroke: #333333\"/>\n    </defs>\n    <g clip-path=\"url(#p6777251e13)\">\n     <use xlink:href=\"#mdd3375d543\" x=\"88.744602\" y=\"66.582613\" style=\"fill: #dd8452; stroke: #333333\"/>\n     <use xlink:href=\"#mdd3375d543\" x=\"124.661874\" y=\"63.263267\" style=\"fill: #dd8452; stroke: #333333\"/>\n     <use xlink:href=\"#mdd3375d543\" x=\"84.58745\" y=\"58.95913\" style=\"fill: #dd8452; stroke: #333333\"/>\n     <use xlink:href=\"#mdd3375d543\" x=\"251.021149\" y=\"181.113666\" style=\"fill: #dd8452; stroke: #333333\"/>\n     <use xlink:href=\"#mdd3375d543\" x=\"226.873488\" y=\"218.385425\" style=\"fill: #dd8452; stroke: #333333\"/>\n     <use xlink:href=\"#mdd3375d543\" x=\"238.335375\" y=\"202.488512\" style=\"fill: #dd8452; stroke: #333333\"/>\n     <use xlink:href=\"#mdd3375d543\" x=\"246.099798\" y=\"208.1767\" style=\"fill: #dd8452; stroke: #333333\"/>\n     <use xlink:href=\"#mdd3375d543\" x=\"227.476216\" y=\"227.990346\" style=\"fill: #dd8452; stroke: #333333\"/>\n     <use xlink:href=\"#mdd3375d543\" x=\"240.244393\" y=\"222.880676\" style=\"fill: #dd8452; stroke: #333333\"/>\n     <use xlink:href=\"#mdd3375d543\" x=\"113.618865\" y=\"55.294371\" style=\"fill: #dd8452; stroke: #333333\"/>\n     <use xlink:href=\"#mdd3375d543\" x=\"78.901919\" y=\"82.659755\" style=\"fill: #dd8452; stroke: #333333\"/>\n     <use xlink:href=\"#mdd3375d543\" x=\"105.605042\" y=\"62.714304\" style=\"fill: #dd8452; stroke: #333333\"/>\n     <use xlink:href=\"#mdd3375d543\" x=\"246.689676\" y=\"154.238644\" style=\"fill: #dd8452; stroke: #333333\"/>\n     <use xlink:href=\"#mdd3375d543\" x=\"87.435332\" y=\"73.027779\" style=\"fill: #dd8452; stroke: #333333\"/>\n     <use xlink:href=\"#mdd3375d543\" x=\"232.575432\" y=\"206.051046\" style=\"fill: #dd8452; stroke: #333333\"/>\n     <use xlink:href=\"#mdd3375d543\" x=\"91.680469\" y=\"54.811418\" style=\"fill: #dd8452; stroke: #333333\"/>\n     <use xlink:href=\"#mdd3375d543\" x=\"99.245585\" y=\"84.582287\" style=\"fill: #dd8452; stroke: #333333\"/>\n     <use xlink:href=\"#mdd3375d543\" x=\"88.034356\" y=\"66.799643\" style=\"fill: #dd8452; stroke: #333333\"/>\n     <use xlink:href=\"#mdd3375d543\" x=\"98.981642\" y=\"78.726968\" style=\"fill: #dd8452; stroke: #333333\"/>\n     <use xlink:href=\"#mdd3375d543\" x=\"128.586414\" y=\"61.063649\" style=\"fill: #dd8452; stroke: #333333\"/>\n     <use xlink:href=\"#mdd3375d543\" x=\"230.086383\" y=\"195.463394\" style=\"fill: #dd8452; stroke: #333333\"/>\n     <use xlink:href=\"#mdd3375d543\" x=\"221.634047\" y=\"194.564391\" style=\"fill: #dd8452; stroke: #333333\"/>\n     <use xlink:href=\"#mdd3375d543\" x=\"128.279021\" y=\"55.587534\" style=\"fill: #dd8452; stroke: #333333\"/>\n     <use xlink:href=\"#mdd3375d543\" x=\"226.345612\" y=\"207.993906\" style=\"fill: #dd8452; stroke: #333333\"/>\n     <use xlink:href=\"#mdd3375d543\" x=\"193.693914\" y=\"221.251324\" style=\"fill: #dd8452; stroke: #333333\"/>\n     <use xlink:href=\"#mdd3375d543\" x=\"121.369482\" y=\"89.42429\" style=\"fill: #dd8452; stroke: #333333\"/>\n     <use xlink:href=\"#mdd3375d543\" x=\"92.13035\" y=\"67.977435\" style=\"fill: #dd8452; stroke: #333333\"/>\n     <use xlink:href=\"#mdd3375d543\" x=\"259.757291\" y=\"226.905074\" style=\"fill: #dd8452; stroke: #333333\"/>\n     <use xlink:href=\"#mdd3375d543\" x=\"255.833584\" y=\"207.03541\" style=\"fill: #dd8452; stroke: #333333\"/>\n     <use xlink:href=\"#mdd3375d543\" x=\"225.575598\" y=\"200.826612\" style=\"fill: #dd8452; stroke: #333333\"/>\n     <use xlink:href=\"#mdd3375d543\" x=\"101.147117\" y=\"78.020949\" style=\"fill: #dd8452; stroke: #333333\"/>\n     <use xlink:href=\"#mdd3375d543\" x=\"240.407954\" y=\"212.470307\" style=\"fill: #dd8452; stroke: #333333\"/>\n     <use xlink:href=\"#mdd3375d543\" x=\"261.799386\" y=\"224.183869\" style=\"fill: #dd8452; stroke: #333333\"/>\n     <use xlink:href=\"#mdd3375d543\" x=\"231.108137\" y=\"195.502297\" style=\"fill: #dd8452; stroke: #333333\"/>\n     <use xlink:href=\"#mdd3375d543\" x=\"252.115114\" y=\"202.953652\" style=\"fill: #dd8452; stroke: #333333\"/>\n     <use xlink:href=\"#mdd3375d543\" x=\"86.642862\" y=\"77.470848\" style=\"fill: #dd8452; stroke: #333333\"/>\n     <use xlink:href=\"#mdd3375d543\" x=\"116.364561\" y=\"77.902156\" style=\"fill: #dd8452; stroke: #333333\"/>\n     <use xlink:href=\"#mdd3375d543\" x=\"106.057388\" y=\"72.552008\" style=\"fill: #dd8452; stroke: #333333\"/>\n     <use xlink:href=\"#mdd3375d543\" x=\"95.267551\" y=\"54.676401\" style=\"fill: #dd8452; stroke: #333333\"/>\n     <use xlink:href=\"#mdd3375d543\" x=\"249.044462\" y=\"211.439147\" style=\"fill: #dd8452; stroke: #333333\"/>\n     <use xlink:href=\"#mdd3375d543\" x=\"243.996635\" y=\"208.964208\" style=\"fill: #dd8452; stroke: #333333\"/>\n     <use xlink:href=\"#mdd3375d543\" x=\"99.707157\" y=\"61.596248\" style=\"fill: #dd8452; stroke: #333333\"/>\n     <use xlink:href=\"#mdd3375d543\" x=\"227.879332\" y=\"178.426158\" style=\"fill: #dd8452; stroke: #333333\"/>\n     <use xlink:href=\"#mdd3375d543\" x=\"84.145352\" y=\"86.457049\" style=\"fill: #dd8452; stroke: #333333\"/>\n     <use xlink:href=\"#mdd3375d543\" x=\"253.180588\" y=\"209.196615\" style=\"fill: #dd8452; stroke: #333333\"/>\n     <use xlink:href=\"#mdd3375d543\" x=\"245.24898\" y=\"214.921713\" style=\"fill: #dd8452; stroke: #333333\"/>\n     <use xlink:href=\"#mdd3375d543\" x=\"86.738442\" y=\"66.425516\" style=\"fill: #dd8452; stroke: #333333\"/>\n     <use xlink:href=\"#mdd3375d543\" x=\"77.908473\" y=\"89.112693\" style=\"fill: #dd8452; stroke: #333333\"/>\n     <use xlink:href=\"#mdd3375d543\" x=\"110.43894\" y=\"71.971425\" style=\"fill: #dd8452; stroke: #333333\"/>\n     <use xlink:href=\"#mdd3375d543\" x=\"239.161966\" y=\"211.142247\" style=\"fill: #dd8452; stroke: #333333\"/>\n     <use xlink:href=\"#mdd3375d543\" x=\"246.750324\" y=\"186.115848\" style=\"fill: #dd8452; stroke: #333333\"/>\n     <use xlink:href=\"#mdd3375d543\" x=\"240.801222\" y=\"217.797338\" style=\"fill: #dd8452; stroke: #333333\"/>\n     <use xlink:href=\"#mdd3375d543\" x=\"239.768965\" y=\"200.333409\" style=\"fill: #dd8452; stroke: #333333\"/>\n     <use xlink:href=\"#mdd3375d543\" x=\"129.233412\" y=\"80.880027\" style=\"fill: #dd8452; stroke: #333333\"/>\n     <use xlink:href=\"#mdd3375d543\" x=\"85.663459\" y=\"63.014756\" style=\"fill: #dd8452; stroke: #333333\"/>\n     <use xlink:href=\"#mdd3375d543\" x=\"220.796717\" y=\"182.011372\" style=\"fill: #dd8452; stroke: #333333\"/>\n     <use xlink:href=\"#mdd3375d543\" x=\"256.063225\" y=\"213.62259\" style=\"fill: #dd8452; stroke: #333333\"/>\n     <use xlink:href=\"#mdd3375d543\" x=\"74.169028\" y=\"51.171343\" style=\"fill: #dd8452; stroke: #333333\"/>\n     <use xlink:href=\"#mdd3375d543\" x=\"239.497143\" y=\"206.530491\" style=\"fill: #dd8452; stroke: #333333\"/>\n     <use xlink:href=\"#mdd3375d543\" x=\"233.07343\" y=\"198.617921\" style=\"fill: #dd8452; stroke: #333333\"/>\n     <use xlink:href=\"#mdd3375d543\" x=\"100.035879\" y=\"62.705328\" style=\"fill: #dd8452; stroke: #333333\"/>\n     <use xlink:href=\"#mdd3375d543\" x=\"249.462942\" y=\"222.628842\" style=\"fill: #dd8452; stroke: #333333\"/>\n     <use xlink:href=\"#mdd3375d543\" x=\"76.694727\" y=\"52.218279\" style=\"fill: #dd8452; stroke: #333333\"/>\n     <use xlink:href=\"#mdd3375d543\" x=\"120.223039\" y=\"68.184441\" style=\"fill: #dd8452; stroke: #333333\"/>\n     <use xlink:href=\"#mdd3375d543\" x=\"84.725124\" y=\"60.347335\" style=\"fill: #dd8452; stroke: #333333\"/>\n     <use xlink:href=\"#mdd3375d543\" x=\"113.271419\" y=\"93.939299\" style=\"fill: #dd8452; stroke: #333333\"/>\n     <use xlink:href=\"#mdd3375d543\" x=\"81.644755\" y=\"97.793332\" style=\"fill: #dd8452; stroke: #333333\"/>\n     <use xlink:href=\"#mdd3375d543\" x=\"260.619075\" y=\"206.157936\" style=\"fill: #dd8452; stroke: #333333\"/>\n     <use xlink:href=\"#mdd3375d543\" x=\"262.400398\" y=\"226.138909\" style=\"fill: #dd8452; stroke: #333333\"/>\n     <use xlink:href=\"#mdd3375d543\" x=\"103.757261\" y=\"70.223073\" style=\"fill: #dd8452; stroke: #333333\"/>\n     <use xlink:href=\"#mdd3375d543\" x=\"79.934655\" y=\"60.572391\" style=\"fill: #dd8452; stroke: #333333\"/>\n     <use xlink:href=\"#mdd3375d543\" x=\"232.173291\" y=\"221.729839\" style=\"fill: #dd8452; stroke: #333333\"/>\n     <use xlink:href=\"#mdd3375d543\" x=\"97.45439\" y=\"56.649981\" style=\"fill: #dd8452; stroke: #333333\"/>\n     <use xlink:href=\"#mdd3375d543\" x=\"90.857583\" y=\"80.668083\" style=\"fill: #dd8452; stroke: #333333\"/>\n     <use xlink:href=\"#mdd3375d543\" x=\"237.913128\" y=\"221.400469\" style=\"fill: #dd8452; stroke: #333333\"/>\n     <use xlink:href=\"#mdd3375d543\" x=\"229.551115\" y=\"204.235884\" style=\"fill: #dd8452; stroke: #333333\"/>\n     <use xlink:href=\"#mdd3375d543\" x=\"237.838386\" y=\"210.212185\" style=\"fill: #dd8452; stroke: #333333\"/>\n     <use xlink:href=\"#mdd3375d543\" x=\"107.003632\" y=\"59.365508\" style=\"fill: #dd8452; stroke: #333333\"/>\n     <use xlink:href=\"#mdd3375d543\" x=\"94.458142\" y=\"101.402736\" style=\"fill: #dd8452; stroke: #333333\"/>\n     <use xlink:href=\"#mdd3375d543\" x=\"218.046165\" y=\"188.394864\" style=\"fill: #dd8452; stroke: #333333\"/>\n     <use xlink:href=\"#mdd3375d543\" x=\"228.752224\" y=\"226.71809\" style=\"fill: #dd8452; stroke: #333333\"/>\n     <use xlink:href=\"#mdd3375d543\" x=\"99.430241\" y=\"81.608069\" style=\"fill: #dd8452; stroke: #333333\"/>\n     <use xlink:href=\"#mdd3375d543\" x=\"119.827609\" y=\"62.369088\" style=\"fill: #dd8452; stroke: #333333\"/>\n     <use xlink:href=\"#mdd3375d543\" x=\"85.985081\" y=\"88.773807\" style=\"fill: #dd8452; stroke: #333333\"/>\n     <use xlink:href=\"#mdd3375d543\" x=\"252.490084\" y=\"180.940214\" style=\"fill: #dd8452; stroke: #333333\"/>\n     <use xlink:href=\"#mdd3375d543\" x=\"219.691543\" y=\"199.440695\" style=\"fill: #dd8452; stroke: #333333\"/>\n     <use xlink:href=\"#mdd3375d543\" x=\"89.159138\" y=\"76.467048\" style=\"fill: #dd8452; stroke: #333333\"/>\n     <use xlink:href=\"#mdd3375d543\" x=\"231.065401\" y=\"219.047436\" style=\"fill: #dd8452; stroke: #333333\"/>\n     <use xlink:href=\"#mdd3375d543\" x=\"236.051975\" y=\"219.646137\" style=\"fill: #dd8452; stroke: #333333\"/>\n     <use xlink:href=\"#mdd3375d543\" x=\"90.201347\" y=\"59.394599\" style=\"fill: #dd8452; stroke: #333333\"/>\n     <use xlink:href=\"#mdd3375d543\" x=\"75.3766\" y=\"69.113132\" style=\"fill: #dd8452; stroke: #333333\"/>\n     <use xlink:href=\"#mdd3375d543\" x=\"243.087439\" y=\"219.601522\" style=\"fill: #dd8452; stroke: #333333\"/>\n     <use xlink:href=\"#mdd3375d543\" x=\"248.432703\" y=\"230.005661\" style=\"fill: #dd8452; stroke: #333333\"/>\n     <use xlink:href=\"#mdd3375d543\" x=\"230.22676\" y=\"206.524746\" style=\"fill: #dd8452; stroke: #333333\"/>\n     <use xlink:href=\"#mdd3375d543\" x=\"86.199598\" y=\"75.057713\" style=\"fill: #dd8452; stroke: #333333\"/>\n     <use xlink:href=\"#mdd3375d543\" x=\"106.480285\" y=\"72.563728\" style=\"fill: #dd8452; stroke: #333333\"/>\n     <use xlink:href=\"#mdd3375d543\" x=\"240.64481\" y=\"209.315054\" style=\"fill: #dd8452; stroke: #333333\"/>\n    </g>\n   </g>\n   <g id=\"patch_3\">\n    <path d=\"M 59.024844 244.078125 \nL 59.024844 22.318125 \n\" style=\"fill: none; stroke: #ffffff; stroke-width: 1.25; stroke-linejoin: miter; stroke-linecap: square\"/>\n   </g>\n   <g id=\"patch_4\">\n    <path d=\"M 282.224844 244.078125 \nL 282.224844 22.318125 \n\" style=\"fill: none; stroke: #ffffff; stroke-width: 1.25; stroke-linejoin: miter; stroke-linecap: square\"/>\n   </g>\n   <g id=\"patch_5\">\n    <path d=\"M 59.024844 244.078125 \nL 282.224844 244.078125 \n\" style=\"fill: none; stroke: #ffffff; stroke-width: 1.25; stroke-linejoin: miter; stroke-linecap: square\"/>\n   </g>\n   <g id=\"patch_6\">\n    <path d=\"M 59.024844 22.318125 \nL 282.224844 22.318125 \n\" style=\"fill: none; stroke: #ffffff; stroke-width: 1.25; stroke-linejoin: miter; stroke-linecap: square\"/>\n   </g>\n   <g id=\"text_14\">\n    <!-- Dataset samples -->\n    <g style=\"fill: #262626\" transform=\"translate(120.282031 16.318125) scale(0.12 -0.12)\">\n     <defs>\n      <path id=\"DejaVuSans-44\" d=\"M 1259 4147 \nL 1259 519 \nL 2022 519 \nQ 2988 519 3436 956 \nQ 3884 1394 3884 2338 \nQ 3884 3275 3436 3711 \nQ 2988 4147 2022 4147 \nL 1259 4147 \nz\nM 628 4666 \nL 1925 4666 \nQ 3281 4666 3915 4102 \nQ 4550 3538 4550 2338 \nQ 4550 1131 3912 565 \nQ 3275 0 1925 0 \nL 628 0 \nL 628 4666 \nz\n\" transform=\"scale(0.015625)\"/>\n      <path id=\"DejaVuSans-61\" d=\"M 2194 1759 \nQ 1497 1759 1228 1600 \nQ 959 1441 959 1056 \nQ 959 750 1161 570 \nQ 1363 391 1709 391 \nQ 2188 391 2477 730 \nQ 2766 1069 2766 1631 \nL 2766 1759 \nL 2194 1759 \nz\nM 3341 1997 \nL 3341 0 \nL 2766 0 \nL 2766 531 \nQ 2569 213 2275 61 \nQ 1981 -91 1556 -91 \nQ 1019 -91 701 211 \nQ 384 513 384 1019 \nQ 384 1609 779 1909 \nQ 1175 2209 1959 2209 \nL 2766 2209 \nL 2766 2266 \nQ 2766 2663 2505 2880 \nQ 2244 3097 1772 3097 \nQ 1472 3097 1187 3025 \nQ 903 2953 641 2809 \nL 641 3341 \nQ 956 3463 1253 3523 \nQ 1550 3584 1831 3584 \nQ 2591 3584 2966 3190 \nQ 3341 2797 3341 1997 \nz\n\" transform=\"scale(0.015625)\"/>\n      <path id=\"DejaVuSans-74\" d=\"M 1172 4494 \nL 1172 3500 \nL 2356 3500 \nL 2356 3053 \nL 1172 3053 \nL 1172 1153 \nQ 1172 725 1289 603 \nQ 1406 481 1766 481 \nL 2356 481 \nL 2356 0 \nL 1766 0 \nQ 1100 0 847 248 \nQ 594 497 594 1153 \nL 594 3053 \nL 172 3053 \nL 172 3500 \nL 594 3500 \nL 594 4494 \nL 1172 4494 \nz\n\" transform=\"scale(0.015625)\"/>\n      <path id=\"DejaVuSans-73\" d=\"M 2834 3397 \nL 2834 2853 \nQ 2591 2978 2328 3040 \nQ 2066 3103 1784 3103 \nQ 1356 3103 1142 2972 \nQ 928 2841 928 2578 \nQ 928 2378 1081 2264 \nQ 1234 2150 1697 2047 \nL 1894 2003 \nQ 2506 1872 2764 1633 \nQ 3022 1394 3022 966 \nQ 3022 478 2636 193 \nQ 2250 -91 1575 -91 \nQ 1294 -91 989 -36 \nQ 684 19 347 128 \nL 347 722 \nQ 666 556 975 473 \nQ 1284 391 1588 391 \nQ 1994 391 2212 530 \nQ 2431 669 2431 922 \nQ 2431 1156 2273 1281 \nQ 2116 1406 1581 1522 \nL 1381 1569 \nQ 847 1681 609 1914 \nQ 372 2147 372 2553 \nQ 372 3047 722 3315 \nQ 1072 3584 1716 3584 \nQ 2034 3584 2315 3537 \nQ 2597 3491 2834 3397 \nz\n\" transform=\"scale(0.015625)\"/>\n      <path id=\"DejaVuSans-65\" d=\"M 3597 1894 \nL 3597 1613 \nL 953 1613 \nQ 991 1019 1311 708 \nQ 1631 397 2203 397 \nQ 2534 397 2845 478 \nQ 3156 559 3463 722 \nL 3463 178 \nQ 3153 47 2828 -22 \nQ 2503 -91 2169 -91 \nQ 1331 -91 842 396 \nQ 353 884 353 1716 \nQ 353 2575 817 3079 \nQ 1281 3584 2069 3584 \nQ 2775 3584 3186 3129 \nQ 3597 2675 3597 1894 \nz\nM 3022 2063 \nQ 3016 2534 2758 2815 \nQ 2500 3097 2075 3097 \nQ 1594 3097 1305 2825 \nQ 1016 2553 972 2059 \nL 3022 2063 \nz\n\" transform=\"scale(0.015625)\"/>\n      <path id=\"DejaVuSans-20\" transform=\"scale(0.015625)\"/>\n      <path id=\"DejaVuSans-6d\" d=\"M 3328 2828 \nQ 3544 3216 3844 3400 \nQ 4144 3584 4550 3584 \nQ 5097 3584 5394 3201 \nQ 5691 2819 5691 2113 \nL 5691 0 \nL 5113 0 \nL 5113 2094 \nQ 5113 2597 4934 2840 \nQ 4756 3084 4391 3084 \nQ 3944 3084 3684 2787 \nQ 3425 2491 3425 1978 \nL 3425 0 \nL 2847 0 \nL 2847 2094 \nQ 2847 2600 2669 2842 \nQ 2491 3084 2119 3084 \nQ 1678 3084 1418 2786 \nQ 1159 2488 1159 1978 \nL 1159 0 \nL 581 0 \nL 581 3500 \nL 1159 3500 \nL 1159 2956 \nQ 1356 3278 1631 3431 \nQ 1906 3584 2284 3584 \nQ 2666 3584 2933 3390 \nQ 3200 3197 3328 2828 \nz\n\" transform=\"scale(0.015625)\"/>\n      <path id=\"DejaVuSans-70\" d=\"M 1159 525 \nL 1159 -1331 \nL 581 -1331 \nL 581 3500 \nL 1159 3500 \nL 1159 2969 \nQ 1341 3281 1617 3432 \nQ 1894 3584 2278 3584 \nQ 2916 3584 3314 3078 \nQ 3713 2572 3713 1747 \nQ 3713 922 3314 415 \nQ 2916 -91 2278 -91 \nQ 1894 -91 1617 61 \nQ 1341 213 1159 525 \nz\nM 3116 1747 \nQ 3116 2381 2855 2742 \nQ 2594 3103 2138 3103 \nQ 1681 3103 1420 2742 \nQ 1159 2381 1159 1747 \nQ 1159 1113 1420 752 \nQ 1681 391 2138 391 \nQ 2594 391 2855 752 \nQ 3116 1113 3116 1747 \nz\n\" transform=\"scale(0.015625)\"/>\n      <path id=\"DejaVuSans-6c\" d=\"M 603 4863 \nL 1178 4863 \nL 1178 0 \nL 603 0 \nL 603 4863 \nz\n\" transform=\"scale(0.015625)\"/>\n     </defs>\n     <use xlink:href=\"#DejaVuSans-44\"/>\n     <use xlink:href=\"#DejaVuSans-61\" x=\"77.001953\"/>\n     <use xlink:href=\"#DejaVuSans-74\" x=\"138.28125\"/>\n     <use xlink:href=\"#DejaVuSans-61\" x=\"177.490234\"/>\n     <use xlink:href=\"#DejaVuSans-73\" x=\"238.769531\"/>\n     <use xlink:href=\"#DejaVuSans-65\" x=\"290.869141\"/>\n     <use xlink:href=\"#DejaVuSans-74\" x=\"352.392578\"/>\n     <use xlink:href=\"#DejaVuSans-20\" x=\"391.601562\"/>\n     <use xlink:href=\"#DejaVuSans-73\" x=\"423.388672\"/>\n     <use xlink:href=\"#DejaVuSans-61\" x=\"475.488281\"/>\n     <use xlink:href=\"#DejaVuSans-6d\" x=\"536.767578\"/>\n     <use xlink:href=\"#DejaVuSans-70\" x=\"634.179688\"/>\n     <use xlink:href=\"#DejaVuSans-6c\" x=\"697.65625\"/>\n     <use xlink:href=\"#DejaVuSans-65\" x=\"725.439453\"/>\n     <use xlink:href=\"#DejaVuSans-73\" x=\"786.962891\"/>\n    </g>\n   </g>\n   <g id=\"legend_1\">\n    <g id=\"patch_7\">\n     <path d=\"M 199.891562 150.994063 \nL 274.524844 150.994063 \nQ 276.724844 150.994063 276.724844 148.794063 \nL 276.724844 117.602188 \nQ 276.724844 115.402188 274.524844 115.402188 \nL 199.891562 115.402188 \nQ 197.691562 115.402188 197.691562 117.602188 \nL 197.691562 148.794063 \nQ 197.691562 150.994063 199.891562 150.994063 \nz\n\" style=\"fill: #eaeaf2; opacity: 0.8; stroke: #cccccc; stroke-linejoin: miter\"/>\n    </g>\n    <g id=\"PathCollection_3\">\n     <g>\n      <use xlink:href=\"#mda1492b2e9\" x=\"213.091562\" y=\"125.272969\" style=\"fill: #4c72b0; stroke: #333333\"/>\n     </g>\n    </g>\n    <g id=\"text_15\">\n     <!-- Class 0 -->\n     <g style=\"fill: #262626\" transform=\"translate(232.891562 128.160469) scale(0.11 -0.11)\">\n      <defs>\n       <path id=\"DejaVuSans-43\" d=\"M 4122 4306 \nL 4122 3641 \nQ 3803 3938 3442 4084 \nQ 3081 4231 2675 4231 \nQ 1875 4231 1450 3742 \nQ 1025 3253 1025 2328 \nQ 1025 1406 1450 917 \nQ 1875 428 2675 428 \nQ 3081 428 3442 575 \nQ 3803 722 4122 1019 \nL 4122 359 \nQ 3791 134 3420 21 \nQ 3050 -91 2638 -91 \nQ 1578 -91 968 557 \nQ 359 1206 359 2328 \nQ 359 3453 968 4101 \nQ 1578 4750 2638 4750 \nQ 3056 4750 3426 4639 \nQ 3797 4528 4122 4306 \nz\n\" transform=\"scale(0.015625)\"/>\n      </defs>\n      <use xlink:href=\"#DejaVuSans-43\"/>\n      <use xlink:href=\"#DejaVuSans-6c\" x=\"69.824219\"/>\n      <use xlink:href=\"#DejaVuSans-61\" x=\"97.607422\"/>\n      <use xlink:href=\"#DejaVuSans-73\" x=\"158.886719\"/>\n      <use xlink:href=\"#DejaVuSans-73\" x=\"210.986328\"/>\n      <use xlink:href=\"#DejaVuSans-20\" x=\"263.085938\"/>\n      <use xlink:href=\"#DejaVuSans-30\" x=\"294.873047\"/>\n     </g>\n    </g>\n    <g id=\"PathCollection_4\">\n     <g>\n      <use xlink:href=\"#mdd3375d543\" x=\"213.091562\" y=\"141.418906\" style=\"fill: #dd8452; stroke: #333333\"/>\n     </g>\n    </g>\n    <g id=\"text_16\">\n     <!-- Class 1 -->\n     <g style=\"fill: #262626\" transform=\"translate(232.891562 144.306406) scale(0.11 -0.11)\">\n      <use xlink:href=\"#DejaVuSans-43\"/>\n      <use xlink:href=\"#DejaVuSans-6c\" x=\"69.824219\"/>\n      <use xlink:href=\"#DejaVuSans-61\" x=\"97.607422\"/>\n      <use xlink:href=\"#DejaVuSans-73\" x=\"158.886719\"/>\n      <use xlink:href=\"#DejaVuSans-73\" x=\"210.986328\"/>\n      <use xlink:href=\"#DejaVuSans-20\" x=\"263.085938\"/>\n      <use xlink:href=\"#DejaVuSans-31\" x=\"294.873047\"/>\n     </g>\n    </g>\n   </g>\n  </g>\n </g>\n <defs>\n  <clipPath id=\"p6777251e13\">\n   <rect x=\"59.024844\" y=\"22.318125\" width=\"223.2\" height=\"221.76\"/>\n  </clipPath>\n </defs>\n</svg>\n",
            "application/pdf": "[encoded data removed]"
          },
          "metadata": {}
        }
      ]
    },
    {
      "cell_type": "code",
      "source": [
        "# This collate function is taken from the JAX tutorial with PyTorch Data Loading\n",
        "# https://jax.readthedocs.io/en/latest/notebooks/Neural_Network_and_Data_Loading.html\n",
        "def numpy_collate(batch):\n",
        "    if isinstance(batch[0], np.ndarray):\n",
        "        return np.stack(batch)\n",
        "    elif isinstance(batch[0], (tuple,list)):\n",
        "        transposed = zip(*batch)\n",
        "        return [numpy_collate(samples) for samples in transposed]\n",
        "    else:\n",
        "        return np.array(batch)\n",
        "\n",
        "data_loader = data.DataLoader(dataset, batch_size=8, shuffle=True, collate_fn=numpy_collate)"
      ],
      "metadata": {
        "id": "_ZmVBAO_ZOrN"
      },
      "execution_count": 41,
      "outputs": []
    },
    {
      "cell_type": "code",
      "source": [
        "# next(iter(...)) catches the first batch of the data loader\n",
        "# If shuffle is True, this will return a different batch every time we run this cell\n",
        "# For iterating over the whole dataset, we can simple use \"for batch in data_loader: ...\"\n",
        "data_inputs, data_labels = next(iter(data_loader))\n",
        "\n",
        "# The shape of the outputs are [batch_size, d_1,...,d_N] where d_1,...,d_N are the\n",
        "# dimensions of the data point returned from the dataset class\n",
        "print(\"Data inputs\", data_inputs.shape, \"\\n\", data_inputs)\n",
        "print(\"Data labels\", data_labels.shape, \"\\n\", data_labels)"
      ],
      "metadata": {
        "colab": {
          "base_uri": "https://localhost:8080/"
        },
        "id": "ngAzxJ-NZmrY",
        "outputId": "63d6bfbb-26d8-4029-a67c-b0b0bf60cc13"
      },
      "execution_count": 42,
      "outputs": [
        {
          "output_type": "stream",
          "name": "stdout",
          "text": [
            "Data inputs (8, 2) \n",
            " [[ 0.15231241  1.0538911 ]\n",
            " [-0.05767713  1.0755391 ]\n",
            " [-0.00190162 -0.10025293]\n",
            " [ 1.0681953  -0.03102668]\n",
            " [ 0.9181779   0.20923872]\n",
            " [-0.0985726   0.05040465]\n",
            " [ 1.1644968   0.9750964 ]\n",
            " [-0.06800247  1.0232254 ]]\n",
            "Data labels (8,) \n",
            " [1 1 0 1 1 0 0 1]\n"
          ]
        }
      ]
    },
    {
      "cell_type": "code",
      "source": [
        "try:\n",
        "    import optax\n",
        "except ModuleNotFoundError: # Install optax if missing\n",
        "    !pip install --quiet optax\n",
        "    import optax"
      ],
      "metadata": {
        "id": "baJcyUBRaSWE"
      },
      "execution_count": 43,
      "outputs": []
    },
    {
      "cell_type": "code",
      "source": [
        "# Input to the optimizer are optimizer settings like learning rate\n",
        "optimizer = optax.sgd(learning_rate=0.1)"
      ],
      "metadata": {
        "id": "RQepTxf9ae9k"
      },
      "execution_count": 44,
      "outputs": []
    },
    {
      "cell_type": "code",
      "source": [
        "from flax.training import train_state\n",
        "\n",
        "model_state = train_state.TrainState.create(apply_fn=model.apply,\n",
        "                                            params=params,\n",
        "                                            tx=optimizer)"
      ],
      "metadata": {
        "id": "yTTwRAYwahs7"
      },
      "execution_count": 45,
      "outputs": []
    },
    {
      "cell_type": "code",
      "source": [
        "def calculate_loss_acc(state, params, batch):\n",
        "    data_input, labels = batch\n",
        "    # Obtain the logits and predictions of the model for the input data\n",
        "    logits = state.apply_fn(params, data_input).squeeze(axis=-1)\n",
        "    pred_labels = (logits > 0).astype(jnp.float32)\n",
        "    # Calculate the loss and accuracy\n",
        "    loss = optax.sigmoid_binary_cross_entropy(logits, labels).mean()\n",
        "    acc = (pred_labels == labels).mean()\n",
        "    return loss, acc"
      ],
      "metadata": {
        "id": "0HOyKxHMcZui"
      },
      "execution_count": 46,
      "outputs": []
    },
    {
      "cell_type": "code",
      "source": [
        "batch = next(iter(data_loader))\n",
        "calculate_loss_acc(model_state, model_state.params, batch)"
      ],
      "metadata": {
        "colab": {
          "base_uri": "https://localhost:8080/"
        },
        "id": "lbbkPyF7cl6g",
        "outputId": "6c6678a0-98dc-48b3-d727-50d0fbcf69b3"
      },
      "execution_count": 47,
      "outputs": [
        {
          "output_type": "execute_result",
          "data": {
            "text/plain": [
              "(Array(0.5873672, dtype=float32), Array(0.875, dtype=float32))"
            ]
          },
          "metadata": {},
          "execution_count": 47
        }
      ]
    },
    {
      "cell_type": "code",
      "source": [
        "@jax.jit  # Jit the function for efficiency\n",
        "def train_step(state, batch):\n",
        "    # Gradient function\n",
        "    grad_fn = jax.value_and_grad(calculate_loss_acc,  # Function to calculate the loss\n",
        "                                 argnums=1,  # Parameters are second argument of the function\n",
        "                                 has_aux=True  # Function has additional outputs, here accuracy\n",
        "                                )\n",
        "    # Determine gradients for current model, parameters and batch\n",
        "    (loss, acc), grads = grad_fn(state, state.params, batch)\n",
        "    # Perform parameter update with gradients and optimizer\n",
        "    state = state.apply_gradients(grads=grads)\n",
        "    # Return state and any other value we might want\n",
        "    return state, loss, acc"
      ],
      "metadata": {
        "id": "pdJxOqz7dJ5b"
      },
      "execution_count": 48,
      "outputs": []
    },
    {
      "cell_type": "code",
      "source": [
        "@jax.jit  # Jit the function for efficiency\n",
        "def eval_step(state, batch):\n",
        "    # Determine the accuracy\n",
        "    _, acc = calculate_loss_acc(state, state.params, batch)\n",
        "    return acc"
      ],
      "metadata": {
        "id": "fKFRKVNrdMPp"
      },
      "execution_count": 49,
      "outputs": []
    },
    {
      "cell_type": "code",
      "source": [
        "train_dataset = XORDataset(size=2500, seed=42)\n",
        "train_data_loader = data.DataLoader(train_dataset, batch_size=128, shuffle=True, collate_fn=numpy_collate)\n"
      ],
      "metadata": {
        "id": "3weZZf8WdQOV"
      },
      "execution_count": 50,
      "outputs": []
    },
    {
      "cell_type": "code",
      "source": [
        "def train_model(state, data_loader, num_epochs=100):\n",
        "    # Training loop\n",
        "    for epoch in tqdm(range(num_epochs)):\n",
        "        for batch in data_loader:\n",
        "            state, loss, acc = train_step(state, batch)\n",
        "            # We could use the loss and accuracy for logging here, e.g. in TensorBoard\n",
        "            # For simplicity, we skip this part here\n",
        "    return state"
      ],
      "metadata": {
        "id": "U9jY3VAGdikn"
      },
      "execution_count": 51,
      "outputs": []
    },
    {
      "cell_type": "code",
      "source": [
        "trained_model_state = train_model(model_state, train_data_loader, num_epochs=100)"
      ],
      "metadata": {
        "colab": {
          "base_uri": "https://localhost:8080/",
          "height": 49,
          "referenced_widgets": [
            "2a7fa7b65e714d8eb3a22440c3379954",
            "5500a92b08ff4c2696a6b2e7d6a81b23",
            "868c2ebac82b4e648a5b83a321759f1e",
            "5587fabee59349e98816ba0e58259ad7",
            "f12c3af686924ac2a1050aff90f3b874",
            "434e4d63eaf94b41a503b7c5791008fc",
            "ec239be60bfa4522a253c4da42330832",
            "fad4a63f3fe74187a26e05d10ee289a2",
            "2c2a2766e0d04bd69ee0448a97098bda",
            "60b8e23434dd42c291a5cadf0df24150",
            "70ce555cc99442dbb6968dcb10ec3fb4"
          ]
        },
        "id": "wtuzPP4ndlS1",
        "outputId": "d2c62940-784a-4137-ed14-807b2f806d4a"
      },
      "execution_count": 52,
      "outputs": [
        {
          "output_type": "display_data",
          "data": {
            "text/plain": [
              "  0%|          | 0/100 [00:00<?, ?it/s]"
            ],
            "application/vnd.jupyter.widget-view+json": {
              "version_major": 2,
              "version_minor": 0,
              "model_id": "2a7fa7b65e714d8eb3a22440c3379954"
            }
          },
          "metadata": {}
        }
      ]
    },
    {
      "cell_type": "code",
      "source": [
        "from flax.training import checkpoints"
      ],
      "metadata": {
        "id": "4KA7G7rHd-7v"
      },
      "execution_count": 53,
      "outputs": []
    },
    {
      "cell_type": "code",
      "source": [
        "checkpoints.save_checkpoint(ckpt_dir='my_checkpoints/',  # Folder to save checkpoint in\n",
        "                            target=trained_model_state,  # What to save. To only save parameters, use model_state.params\n",
        "                            step=100,  # Training step or other metric to save best model on\n",
        "                            prefix='my_model',  # Checkpoint file name prefix\n",
        "                            overwrite=True   # Overwrite existing checkpoint files\n",
        "                           )"
      ],
      "metadata": {
        "colab": {
          "base_uri": "https://localhost:8080/",
          "height": 36
        },
        "id": "s8YF6tTQeBgz",
        "outputId": "88c222bf-2672-4c2e-886b-3088d3c2c2df"
      },
      "execution_count": 54,
      "outputs": [
        {
          "output_type": "execute_result",
          "data": {
            "text/plain": [
              "'my_checkpoints/my_model100'"
            ],
            "application/vnd.google.colaboratory.intrinsic+json": {
              "type": "string"
            }
          },
          "metadata": {},
          "execution_count": 54
        }
      ]
    },
    {
      "cell_type": "code",
      "source": [
        "loaded_model_state = checkpoints.restore_checkpoint(\n",
        "                                             ckpt_dir='my_checkpoints/',   # Folder with the checkpoints\n",
        "                                             target=model_state,   # (optional) matching object to rebuild state in\n",
        "                                             prefix='my_model'  # Checkpoint file name prefix\n",
        "                                            )"
      ],
      "metadata": {
        "id": "6rDMMxDNeEIj"
      },
      "execution_count": 55,
      "outputs": []
    },
    {
      "cell_type": "code",
      "source": [
        "test_dataset = XORDataset(size=500, seed=123)\n",
        "# drop_last -> Don't drop the last batch although it is smaller than 128\n",
        "test_data_loader = data.DataLoader(test_dataset,\n",
        "                                   batch_size=128,\n",
        "                                   shuffle=False,\n",
        "                                   drop_last=False,\n",
        "                                   collate_fn=numpy_collate)"
      ],
      "metadata": {
        "id": "B7gtK7z4eHHZ"
      },
      "execution_count": 56,
      "outputs": []
    },
    {
      "cell_type": "code",
      "source": [
        "def eval_model(state, data_loader):\n",
        "    all_accs, batch_sizes = [], []\n",
        "    for batch in data_loader:\n",
        "        batch_acc = eval_step(state, batch)\n",
        "        all_accs.append(batch_acc)\n",
        "        batch_sizes.append(batch[0].shape[0])\n",
        "    # Weighted average since some batches might be smaller\n",
        "    acc = sum([a*b for a,b in zip(all_accs, batch_sizes)]) / sum(batch_sizes)\n",
        "    print(f\"Accuracy of the model: {100.0*acc:4.2f}%\")"
      ],
      "metadata": {
        "id": "XFPUN89weJfW"
      },
      "execution_count": 57,
      "outputs": []
    },
    {
      "cell_type": "code",
      "source": [
        "eval_model(trained_model_state, test_data_loader)"
      ],
      "metadata": {
        "colab": {
          "base_uri": "https://localhost:8080/"
        },
        "id": "fsSKYEWveMfX",
        "outputId": "d4c574b7-af4d-4cab-d13f-366e2e298da4"
      },
      "execution_count": 58,
      "outputs": [
        {
          "output_type": "stream",
          "name": "stdout",
          "text": [
            "Accuracy of the model: 100.00%\n"
          ]
        }
      ]
    },
    {
      "cell_type": "code",
      "source": [
        "trained_model = model.bind(trained_model_state.params)"
      ],
      "metadata": {
        "id": "M0LehmdEeiGe"
      },
      "execution_count": 59,
      "outputs": []
    },
    {
      "cell_type": "code",
      "source": [
        "data_input, labels = next(iter(data_loader))\n",
        "out = trained_model(data_input)  # No explicit parameter passing necessary anymore\n",
        "out.shape"
      ],
      "metadata": {
        "colab": {
          "base_uri": "https://localhost:8080/"
        },
        "id": "6fTcB91-esd1",
        "outputId": "f4cedb08-d2a7-4106-bb8d-0259cfb2543f"
      },
      "execution_count": 60,
      "outputs": [
        {
          "output_type": "execute_result",
          "data": {
            "text/plain": [
              "(8, 1)"
            ]
          },
          "metadata": {},
          "execution_count": 60
        }
      ]
    },
    {
      "cell_type": "code",
      "source": [
        "def visualize_classification(model, data, label):\n",
        "    data_0 = data[label == 0]\n",
        "    data_1 = data[label == 1]\n",
        "\n",
        "    fig = plt.figure(figsize=(4,4), dpi=500)\n",
        "    plt.scatter(data_0[:,0], data_0[:,1], edgecolor=\"#333\", label=\"Class 0\")\n",
        "    plt.scatter(data_1[:,0], data_1[:,1], edgecolor=\"#333\", label=\"Class 1\")\n",
        "    plt.title(\"Dataset samples\")\n",
        "    plt.ylabel(r\"$x_2$\")\n",
        "    plt.xlabel(r\"$x_1$\")\n",
        "    plt.legend()\n",
        "\n",
        "    # Let's make use of a lot of operations we have learned above\n",
        "    c0 = np.array(to_rgba(\"C0\"))\n",
        "    c1 = np.array(to_rgba(\"C1\"))\n",
        "    x1 = jnp.arange(-0.5, 1.5, step=0.01)\n",
        "    x2 = jnp.arange(-0.5, 1.5, step=0.01)\n",
        "    xx1, xx2 = jnp.meshgrid(x1, x2, indexing='ij')  # Meshgrid function as in numpy\n",
        "    model_inputs = np.stack([xx1, xx2], axis=-1)\n",
        "    logits = model(model_inputs)\n",
        "    preds = nn.sigmoid(logits)\n",
        "    output_image = (1 - preds) * c0[None,None] + preds * c1[None,None]  # Specifying \"None\" in a dimension creates a new one\n",
        "    output_image = jax.device_get(output_image)  # Convert to numpy array. This only works for tensors on CPU, hence first push to CPU\n",
        "    plt.imshow(output_image, origin='lower', extent=(-0.5, 1.5, -0.5, 1.5))\n",
        "    plt.grid(False)\n",
        "    return fig\n",
        "\n",
        "_ = visualize_classification(trained_model, dataset.data, dataset.label)\n",
        "plt.show()"
      ],
      "metadata": {
        "colab": {
          "base_uri": "https://localhost:8080/",
          "height": 403
        },
        "id": "lxiU0shhevgq",
        "outputId": "af318282-5bce-42ce-8fc0-93eb35bb7235"
      },
      "execution_count": 61,
      "outputs": [
        {
          "output_type": "display_data",
          "data": {
            "text/plain": [
              "<Figure size 2000x2000 with 1 Axes>"
            ],
            "image/svg+xml": "<?xml version=\"1.0\" encoding=\"utf-8\" standalone=\"no\"?>\n<!DOCTYPE svg PUBLIC \"-//W3C//DTD SVG 1.1//EN\"\n  \"http://www.w3.org/Graphics/SVG/1.1/DTD/svg11.dtd\">\n<svg xmlns:xlink=\"http://www.w3.org/1999/xlink\" width=\"303.730313pt\" height=\"287.037813pt\" viewBox=\"0 0 303.730313 287.037813\" xmlns=\"http://www.w3.org/2000/svg\" version=\"1.1\">\n <metadata>\n  <rdf:RDF xmlns:dc=\"http://purl.org/dc/elements/1.1/\" xmlns:cc=\"http://creativecommons.org/ns#\" xmlns:rdf=\"http://www.w3.org/1999/02/22-rdf-syntax-ns#\">\n   <cc:Work>\n    <dc:type rdf:resource=\"http://purl.org/dc/dcmitype/StillImage\"/>\n    <dc:date>2023-05-11T11:03:33.063670</dc:date>\n    <dc:format>image/svg+xml</dc:format>\n    <dc:creator>\n     <cc:Agent>\n      <dc:title>Matplotlib v3.7.1, https://matplotlib.org/</dc:title>\n     </cc:Agent>\n    </dc:creator>\n   </cc:Work>\n  </rdf:RDF>\n </metadata>\n <defs>\n  <style type=\"text/css\">*{stroke-linejoin: round; stroke-linecap: butt}</style>\n </defs>\n <g id=\"figure_1\">\n  <g id=\"patch_1\">\n   <path d=\"M 0 287.037813 \nL 303.730313 287.037813 \nL 303.730313 0 \nL 0 0 \nz\n\" style=\"fill: #ffffff\"/>\n  </g>\n  <g id=\"axes_1\">\n   <g id=\"patch_2\">\n    <path d=\"M 66.023594 244.078125 \nL 287.783594 244.078125 \nL 287.783594 22.318125 \nL 66.023594 22.318125 \nz\n\" style=\"fill: #eaeaf2\"/>\n   </g>\n   <g clip-path=\"url(#p4ffc018323)\">\n    <image xlink:href=\"data:image/png;base64,\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\" id=\"image1b421314d6\" transform=\"scale(1 -1) translate(0 -221.904)\" x=\"66.023594\" y=\"-22.174125\" width=\"221.904\" height=\"221.904\"/>\n   </g>\n   <g id=\"matplotlib.axis_1\">\n    <g id=\"xtick_1\">\n     <g id=\"text_1\">\n      <!-- −0.5 -->\n      <g style=\"fill: #262626\" transform=\"translate(52.668047 261.936406) scale(0.11 -0.11)\">\n       <defs>\n        <path id=\"DejaVuSans-2212\" d=\"M 678 2272 \nL 4684 2272 \nL 4684 1741 \nL 678 1741 \nL 678 2272 \nz\n\" transform=\"scale(0.015625)\"/>\n        <path id=\"DejaVuSans-30\" d=\"M 2034 4250 \nQ 1547 4250 1301 3770 \nQ 1056 3291 1056 2328 \nQ 1056 1369 1301 889 \nQ 1547 409 2034 409 \nQ 2525 409 2770 889 \nQ 3016 1369 3016 2328 \nQ 3016 3291 2770 3770 \nQ 2525 4250 2034 4250 \nz\nM 2034 4750 \nQ 2819 4750 3233 4129 \nQ 3647 3509 3647 2328 \nQ 3647 1150 3233 529 \nQ 2819 -91 2034 -91 \nQ 1250 -91 836 529 \nQ 422 1150 422 2328 \nQ 422 3509 836 4129 \nQ 1250 4750 2034 4750 \nz\n\" transform=\"scale(0.015625)\"/>\n        <path id=\"DejaVuSans-2e\" d=\"M 684 794 \nL 1344 794 \nL 1344 0 \nL 684 0 \nL 684 794 \nz\n\" transform=\"scale(0.015625)\"/>\n        <path id=\"DejaVuSans-35\" d=\"M 691 4666 \nL 3169 4666 \nL 3169 4134 \nL 1269 4134 \nL 1269 2991 \nQ 1406 3038 1543 3061 \nQ 1681 3084 1819 3084 \nQ 2600 3084 3056 2656 \nQ 3513 2228 3513 1497 \nQ 3513 744 3044 326 \nQ 2575 -91 1722 -91 \nQ 1428 -91 1123 -41 \nQ 819 9 494 109 \nL 494 744 \nQ 775 591 1075 516 \nQ 1375 441 1709 441 \nQ 2250 441 2565 725 \nQ 2881 1009 2881 1497 \nQ 2881 1984 2565 2268 \nQ 2250 2553 1709 2553 \nQ 1456 2553 1204 2497 \nQ 953 2441 691 2322 \nL 691 4666 \nz\n\" transform=\"scale(0.015625)\"/>\n       </defs>\n       <use xlink:href=\"#DejaVuSans-2212\"/>\n       <use xlink:href=\"#DejaVuSans-30\" x=\"83.789062\"/>\n       <use xlink:href=\"#DejaVuSans-2e\" x=\"147.412109\"/>\n       <use xlink:href=\"#DejaVuSans-35\" x=\"179.199219\"/>\n      </g>\n     </g>\n    </g>\n    <g id=\"xtick_2\">\n     <g id=\"text_2\">\n      <!-- 0.0 -->\n      <g style=\"fill: #262626\" transform=\"translate(112.716875 261.936406) scale(0.11 -0.11)\">\n       <use xlink:href=\"#DejaVuSans-30\"/>\n       <use xlink:href=\"#DejaVuSans-2e\" x=\"63.623047\"/>\n       <use xlink:href=\"#DejaVuSans-30\" x=\"95.410156\"/>\n      </g>\n     </g>\n    </g>\n    <g id=\"xtick_3\">\n     <g id=\"text_3\">\n      <!-- 0.5 -->\n      <g style=\"fill: #262626\" transform=\"translate(168.156875 261.936406) scale(0.11 -0.11)\">\n       <use xlink:href=\"#DejaVuSans-30\"/>\n       <use xlink:href=\"#DejaVuSans-2e\" x=\"63.623047\"/>\n       <use xlink:href=\"#DejaVuSans-35\" x=\"95.410156\"/>\n      </g>\n     </g>\n    </g>\n    <g id=\"xtick_4\">\n     <g id=\"text_4\">\n      <!-- 1.0 -->\n      <g style=\"fill: #262626\" transform=\"translate(223.596875 261.936406) scale(0.11 -0.11)\">\n       <defs>\n        <path id=\"DejaVuSans-31\" d=\"M 794 531 \nL 1825 531 \nL 1825 4091 \nL 703 3866 \nL 703 4441 \nL 1819 4666 \nL 2450 4666 \nL 2450 531 \nL 3481 531 \nL 3481 0 \nL 794 0 \nL 794 531 \nz\n\" transform=\"scale(0.015625)\"/>\n       </defs>\n       <use xlink:href=\"#DejaVuSans-31\"/>\n       <use xlink:href=\"#DejaVuSans-2e\" x=\"63.623047\"/>\n       <use xlink:href=\"#DejaVuSans-30\" x=\"95.410156\"/>\n      </g>\n     </g>\n    </g>\n    <g id=\"xtick_5\">\n     <g id=\"text_5\">\n      <!-- 1.5 -->\n      <g style=\"fill: #262626\" transform=\"translate(279.036875 261.936406) scale(0.11 -0.11)\">\n       <use xlink:href=\"#DejaVuSans-31\"/>\n       <use xlink:href=\"#DejaVuSans-2e\" x=\"63.623047\"/>\n       <use xlink:href=\"#DejaVuSans-35\" x=\"95.410156\"/>\n      </g>\n     </g>\n    </g>\n    <g id=\"text_6\">\n     <!-- $x_1$ -->\n     <g style=\"fill: #262626\" transform=\"translate(170.483594 277.342188) scale(0.12 -0.12)\">\n      <defs>\n       <path id=\"DejaVuSans-Oblique-78\" d=\"M 3841 3500 \nL 2234 1784 \nL 3219 0 \nL 2559 0 \nL 1819 1388 \nL 531 0 \nL -166 0 \nL 1556 1844 \nL 641 3500 \nL 1300 3500 \nL 1972 2234 \nL 3144 3500 \nL 3841 3500 \nz\n\" transform=\"scale(0.015625)\"/>\n      </defs>\n      <use xlink:href=\"#DejaVuSans-Oblique-78\" transform=\"translate(0 0.3125)\"/>\n      <use xlink:href=\"#DejaVuSans-31\" transform=\"translate(59.179688 -16.09375) scale(0.7)\"/>\n     </g>\n    </g>\n   </g>\n   <g id=\"matplotlib.axis_2\">\n    <g id=\"ytick_1\">\n     <g id=\"text_7\">\n      <!-- −0.50 -->\n      <g style=\"fill: #262626\" transform=\"translate(22.81375 248.257266) scale(0.11 -0.11)\">\n       <use xlink:href=\"#DejaVuSans-2212\"/>\n       <use xlink:href=\"#DejaVuSans-30\" x=\"83.789062\"/>\n       <use xlink:href=\"#DejaVuSans-2e\" x=\"147.412109\"/>\n       <use xlink:href=\"#DejaVuSans-35\" x=\"179.199219\"/>\n       <use xlink:href=\"#DejaVuSans-30\" x=\"242.822266\"/>\n      </g>\n     </g>\n    </g>\n    <g id=\"ytick_2\">\n     <g id=\"text_8\">\n      <!-- −0.25 -->\n      <g style=\"fill: #262626\" transform=\"translate(22.81375 220.537266) scale(0.11 -0.11)\">\n       <defs>\n        <path id=\"DejaVuSans-32\" d=\"M 1228 531 \nL 3431 531 \nL 3431 0 \nL 469 0 \nL 469 531 \nQ 828 903 1448 1529 \nQ 2069 2156 2228 2338 \nQ 2531 2678 2651 2914 \nQ 2772 3150 2772 3378 \nQ 2772 3750 2511 3984 \nQ 2250 4219 1831 4219 \nQ 1534 4219 1204 4116 \nQ 875 4013 500 3803 \nL 500 4441 \nQ 881 4594 1212 4672 \nQ 1544 4750 1819 4750 \nQ 2544 4750 2975 4387 \nQ 3406 4025 3406 3419 \nQ 3406 3131 3298 2873 \nQ 3191 2616 2906 2266 \nQ 2828 2175 2409 1742 \nQ 1991 1309 1228 531 \nz\n\" transform=\"scale(0.015625)\"/>\n       </defs>\n       <use xlink:href=\"#DejaVuSans-2212\"/>\n       <use xlink:href=\"#DejaVuSans-30\" x=\"83.789062\"/>\n       <use xlink:href=\"#DejaVuSans-2e\" x=\"147.412109\"/>\n       <use xlink:href=\"#DejaVuSans-32\" x=\"179.199219\"/>\n       <use xlink:href=\"#DejaVuSans-35\" x=\"242.822266\"/>\n      </g>\n     </g>\n    </g>\n    <g id=\"ytick_3\">\n     <g id=\"text_9\">\n      <!-- 0.00 -->\n      <g style=\"fill: #262626\" transform=\"translate(32.031406 192.817266) scale(0.11 -0.11)\">\n       <use xlink:href=\"#DejaVuSans-30\"/>\n       <use xlink:href=\"#DejaVuSans-2e\" x=\"63.623047\"/>\n       <use xlink:href=\"#DejaVuSans-30\" x=\"95.410156\"/>\n       <use xlink:href=\"#DejaVuSans-30\" x=\"159.033203\"/>\n      </g>\n     </g>\n    </g>\n    <g id=\"ytick_4\">\n     <g id=\"text_10\">\n      <!-- 0.25 -->\n      <g style=\"fill: #262626\" transform=\"translate(32.031406 165.097266) scale(0.11 -0.11)\">\n       <use xlink:href=\"#DejaVuSans-30\"/>\n       <use xlink:href=\"#DejaVuSans-2e\" x=\"63.623047\"/>\n       <use xlink:href=\"#DejaVuSans-32\" x=\"95.410156\"/>\n       <use xlink:href=\"#DejaVuSans-35\" x=\"159.033203\"/>\n      </g>\n     </g>\n    </g>\n    <g id=\"ytick_5\">\n     <g id=\"text_11\">\n      <!-- 0.50 -->\n      <g style=\"fill: #262626\" transform=\"translate(32.031406 137.377266) scale(0.11 -0.11)\">\n       <use xlink:href=\"#DejaVuSans-30\"/>\n       <use xlink:href=\"#DejaVuSans-2e\" x=\"63.623047\"/>\n       <use xlink:href=\"#DejaVuSans-35\" x=\"95.410156\"/>\n       <use xlink:href=\"#DejaVuSans-30\" x=\"159.033203\"/>\n      </g>\n     </g>\n    </g>\n    <g id=\"ytick_6\">\n     <g id=\"text_12\">\n      <!-- 0.75 -->\n      <g style=\"fill: #262626\" transform=\"translate(32.031406 109.657266) scale(0.11 -0.11)\">\n       <defs>\n        <path id=\"DejaVuSans-37\" d=\"M 525 4666 \nL 3525 4666 \nL 3525 4397 \nL 1831 0 \nL 1172 0 \nL 2766 4134 \nL 525 4134 \nL 525 4666 \nz\n\" transform=\"scale(0.015625)\"/>\n       </defs>\n       <use xlink:href=\"#DejaVuSans-30\"/>\n       <use xlink:href=\"#DejaVuSans-2e\" x=\"63.623047\"/>\n       <use xlink:href=\"#DejaVuSans-37\" x=\"95.410156\"/>\n       <use xlink:href=\"#DejaVuSans-35\" x=\"159.033203\"/>\n      </g>\n     </g>\n    </g>\n    <g id=\"ytick_7\">\n     <g id=\"text_13\">\n      <!-- 1.00 -->\n      <g style=\"fill: #262626\" transform=\"translate(32.031406 81.937266) scale(0.11 -0.11)\">\n       <use xlink:href=\"#DejaVuSans-31\"/>\n       <use xlink:href=\"#DejaVuSans-2e\" x=\"63.623047\"/>\n       <use xlink:href=\"#DejaVuSans-30\" x=\"95.410156\"/>\n       <use xlink:href=\"#DejaVuSans-30\" x=\"159.033203\"/>\n      </g>\n     </g>\n    </g>\n    <g id=\"ytick_8\">\n     <g id=\"text_14\">\n      <!-- 1.25 -->\n      <g style=\"fill: #262626\" transform=\"translate(32.031406 54.217266) scale(0.11 -0.11)\">\n       <use xlink:href=\"#DejaVuSans-31\"/>\n       <use xlink:href=\"#DejaVuSans-2e\" x=\"63.623047\"/>\n       <use xlink:href=\"#DejaVuSans-32\" x=\"95.410156\"/>\n       <use xlink:href=\"#DejaVuSans-35\" x=\"159.033203\"/>\n      </g>\n     </g>\n    </g>\n    <g id=\"ytick_9\">\n     <g id=\"text_15\">\n      <!-- 1.50 -->\n      <g style=\"fill: #262626\" transform=\"translate(32.031406 26.497266) scale(0.11 -0.11)\">\n       <use xlink:href=\"#DejaVuSans-31\"/>\n       <use xlink:href=\"#DejaVuSans-2e\" x=\"63.623047\"/>\n       <use xlink:href=\"#DejaVuSans-35\" x=\"95.410156\"/>\n       <use xlink:href=\"#DejaVuSans-30\" x=\"159.033203\"/>\n      </g>\n     </g>\n    </g>\n    <g id=\"text_16\">\n     <!-- $x_2$ -->\n     <g style=\"fill: #262626\" transform=\"translate(16.318125 139.618125) rotate(-90) scale(0.12 -0.12)\">\n      <use xlink:href=\"#DejaVuSans-Oblique-78\" transform=\"translate(0 0.3125)\"/>\n      <use xlink:href=\"#DejaVuSans-32\" transform=\"translate(59.179688 -16.09375) scale(0.7)\"/>\n     </g>\n    </g>\n   </g>\n   <g id=\"PathCollection_1\">\n    <defs>\n     <path id=\"m85fe41a69f\" d=\"M 0 3 \nC 0.795609 3 1.55874 2.683901 2.12132 2.12132 \nC 2.683901 1.55874 3 0.795609 3 0 \nC 3 -0.795609 2.683901 -1.55874 2.12132 -2.12132 \nC 1.55874 -2.683901 0.795609 -3 0 -3 \nC -0.795609 -3 -1.55874 -2.683901 -2.12132 -2.12132 \nC -2.683901 -1.55874 -3 -0.795609 -3 0 \nC -3 0.795609 -2.683901 1.55874 -2.12132 2.12132 \nC -1.55874 2.683901 -0.795609 3 0 3 \nz\n\" style=\"stroke: #333333\"/>\n    </defs>\n    <g clip-path=\"url(#p4ffc018323)\">\n     <use xlink:href=\"#m85fe41a69f\" x=\"124.713181\" y=\"196.558853\" style=\"fill: #4c72b0; stroke: #333333\"/>\n     <use xlink:href=\"#m85fe41a69f\" x=\"108.25442\" y=\"181.358259\" style=\"fill: #4c72b0; stroke: #333333\"/>\n     <use xlink:href=\"#m85fe41a69f\" x=\"134.310102\" y=\"197.737851\" style=\"fill: #4c72b0; stroke: #333333\"/>\n     <use xlink:href=\"#m85fe41a69f\" x=\"132.145509\" y=\"184.06121\" style=\"fill: #4c72b0; stroke: #333333\"/>\n     <use xlink:href=\"#m85fe41a69f\" x=\"229.62273\" y=\"86.115549\" style=\"fill: #4c72b0; stroke: #333333\"/>\n     <use xlink:href=\"#m85fe41a69f\" x=\"235.41154\" y=\"68.586312\" style=\"fill: #4c72b0; stroke: #333333\"/>\n     <use xlink:href=\"#m85fe41a69f\" x=\"232.487762\" y=\"61.641336\" style=\"fill: #4c72b0; stroke: #333333\"/>\n     <use xlink:href=\"#m85fe41a69f\" x=\"229.409082\" y=\"47.596893\" style=\"fill: #4c72b0; stroke: #333333\"/>\n     <use xlink:href=\"#m85fe41a69f\" x=\"239.280996\" y=\"87.26229\" style=\"fill: #4c72b0; stroke: #333333\"/>\n     <use xlink:href=\"#m85fe41a69f\" x=\"109.589538\" y=\"183.288471\" style=\"fill: #4c72b0; stroke: #333333\"/>\n     <use xlink:href=\"#m85fe41a69f\" x=\"229.865841\" y=\"69.841288\" style=\"fill: #4c72b0; stroke: #333333\"/>\n     <use xlink:href=\"#m85fe41a69f\" x=\"116.512636\" y=\"179.142375\" style=\"fill: #4c72b0; stroke: #333333\"/>\n     <use xlink:href=\"#m85fe41a69f\" x=\"123.837465\" y=\"202.450877\" style=\"fill: #4c72b0; stroke: #333333\"/>\n     <use xlink:href=\"#m85fe41a69f\" x=\"234.263828\" y=\"73.485721\" style=\"fill: #4c72b0; stroke: #333333\"/>\n     <use xlink:href=\"#m85fe41a69f\" x=\"222.543381\" y=\"76.053621\" style=\"fill: #4c72b0; stroke: #333333\"/>\n     <use xlink:href=\"#m85fe41a69f\" x=\"236.310743\" y=\"71.540148\" style=\"fill: #4c72b0; stroke: #333333\"/>\n     <use xlink:href=\"#m85fe41a69f\" x=\"127.793628\" y=\"176.046973\" style=\"fill: #4c72b0; stroke: #333333\"/>\n     <use xlink:href=\"#m85fe41a69f\" x=\"132.041565\" y=\"181.415499\" style=\"fill: #4c72b0; stroke: #333333\"/>\n     <use xlink:href=\"#m85fe41a69f\" x=\"117.967889\" y=\"180.222675\" style=\"fill: #4c72b0; stroke: #333333\"/>\n     <use xlink:href=\"#m85fe41a69f\" x=\"258.008523\" y=\"98.46236\" style=\"fill: #4c72b0; stroke: #333333\"/>\n     <use xlink:href=\"#m85fe41a69f\" x=\"239.95285\" y=\"95.639917\" style=\"fill: #4c72b0; stroke: #333333\"/>\n     <use xlink:href=\"#m85fe41a69f\" x=\"224.412309\" y=\"70.222744\" style=\"fill: #4c72b0; stroke: #333333\"/>\n     <use xlink:href=\"#m85fe41a69f\" x=\"99.008812\" y=\"186.57072\" style=\"fill: #4c72b0; stroke: #333333\"/>\n     <use xlink:href=\"#m85fe41a69f\" x=\"223.556125\" y=\"79.030324\" style=\"fill: #4c72b0; stroke: #333333\"/>\n     <use xlink:href=\"#m85fe41a69f\" x=\"237.942892\" y=\"68.158633\" style=\"fill: #4c72b0; stroke: #333333\"/>\n     <use xlink:href=\"#m85fe41a69f\" x=\"219.034709\" y=\"81.467075\" style=\"fill: #4c72b0; stroke: #333333\"/>\n     <use xlink:href=\"#m85fe41a69f\" x=\"227.0774\" y=\"85.002242\" style=\"fill: #4c72b0; stroke: #333333\"/>\n     <use xlink:href=\"#m85fe41a69f\" x=\"251.918946\" y=\"73.267692\" style=\"fill: #4c72b0; stroke: #333333\"/>\n     <use xlink:href=\"#m85fe41a69f\" x=\"215.496818\" y=\"83.127313\" style=\"fill: #4c72b0; stroke: #333333\"/>\n     <use xlink:href=\"#m85fe41a69f\" x=\"246.391103\" y=\"85.604762\" style=\"fill: #4c72b0; stroke: #333333\"/>\n     <use xlink:href=\"#m85fe41a69f\" x=\"237.264667\" y=\"69.168984\" style=\"fill: #4c72b0; stroke: #333333\"/>\n     <use xlink:href=\"#m85fe41a69f\" x=\"229.543118\" y=\"91.593546\" style=\"fill: #4c72b0; stroke: #333333\"/>\n     <use xlink:href=\"#m85fe41a69f\" x=\"233.602271\" y=\"70.416426\" style=\"fill: #4c72b0; stroke: #333333\"/>\n     <use xlink:href=\"#m85fe41a69f\" x=\"145.114668\" y=\"210.282874\" style=\"fill: #4c72b0; stroke: #333333\"/>\n     <use xlink:href=\"#m85fe41a69f\" x=\"119.780601\" y=\"182.114864\" style=\"fill: #4c72b0; stroke: #333333\"/>\n     <use xlink:href=\"#m85fe41a69f\" x=\"124.579232\" y=\"195.542617\" style=\"fill: #4c72b0; stroke: #333333\"/>\n     <use xlink:href=\"#m85fe41a69f\" x=\"119.155934\" y=\"194.104519\" style=\"fill: #4c72b0; stroke: #333333\"/>\n     <use xlink:href=\"#m85fe41a69f\" x=\"236.302178\" y=\"85.441104\" style=\"fill: #4c72b0; stroke: #333333\"/>\n     <use xlink:href=\"#m85fe41a69f\" x=\"130.476609\" y=\"181.656801\" style=\"fill: #4c72b0; stroke: #333333\"/>\n     <use xlink:href=\"#m85fe41a69f\" x=\"129.749585\" y=\"181.87034\" style=\"fill: #4c72b0; stroke: #333333\"/>\n     <use xlink:href=\"#m85fe41a69f\" x=\"121.231837\" y=\"187.337199\" style=\"fill: #4c72b0; stroke: #333333\"/>\n     <use xlink:href=\"#m85fe41a69f\" x=\"130.61581\" y=\"179.61793\" style=\"fill: #4c72b0; stroke: #333333\"/>\n     <use xlink:href=\"#m85fe41a69f\" x=\"246.818743\" y=\"77.525238\" style=\"fill: #4c72b0; stroke: #333333\"/>\n     <use xlink:href=\"#m85fe41a69f\" x=\"245.18473\" y=\"68.980166\" style=\"fill: #4c72b0; stroke: #333333\"/>\n     <use xlink:href=\"#m85fe41a69f\" x=\"128.383834\" y=\"181.67103\" style=\"fill: #4c72b0; stroke: #333333\"/>\n     <use xlink:href=\"#m85fe41a69f\" x=\"121.327802\" y=\"198.586881\" style=\"fill: #4c72b0; stroke: #333333\"/>\n     <use xlink:href=\"#m85fe41a69f\" x=\"122.304115\" y=\"196.146494\" style=\"fill: #4c72b0; stroke: #333333\"/>\n     <use xlink:href=\"#m85fe41a69f\" x=\"112.310481\" y=\"192.201651\" style=\"fill: #4c72b0; stroke: #333333\"/>\n     <use xlink:href=\"#m85fe41a69f\" x=\"124.179783\" y=\"194.259111\" style=\"fill: #4c72b0; stroke: #333333\"/>\n     <use xlink:href=\"#m85fe41a69f\" x=\"116.240721\" y=\"186.065155\" style=\"fill: #4c72b0; stroke: #333333\"/>\n     <use xlink:href=\"#m85fe41a69f\" x=\"224.377487\" y=\"80.124828\" style=\"fill: #4c72b0; stroke: #333333\"/>\n     <use xlink:href=\"#m85fe41a69f\" x=\"124.910937\" y=\"172.279375\" style=\"fill: #4c72b0; stroke: #333333\"/>\n     <use xlink:href=\"#m85fe41a69f\" x=\"121.252742\" y=\"199.75417\" style=\"fill: #4c72b0; stroke: #333333\"/>\n     <use xlink:href=\"#m85fe41a69f\" x=\"235.921898\" y=\"86.93046\" style=\"fill: #4c72b0; stroke: #333333\"/>\n     <use xlink:href=\"#m85fe41a69f\" x=\"120.257661\" y=\"184.183945\" style=\"fill: #4c72b0; stroke: #333333\"/>\n     <use xlink:href=\"#m85fe41a69f\" x=\"129.11591\" y=\"193.086858\" style=\"fill: #4c72b0; stroke: #333333\"/>\n     <use xlink:href=\"#m85fe41a69f\" x=\"123.948331\" y=\"188.4985\" style=\"fill: #4c72b0; stroke: #333333\"/>\n     <use xlink:href=\"#m85fe41a69f\" x=\"137.553874\" y=\"178.00173\" style=\"fill: #4c72b0; stroke: #333333\"/>\n     <use xlink:href=\"#m85fe41a69f\" x=\"256.218076\" y=\"86.266478\" style=\"fill: #4c72b0; stroke: #333333\"/>\n     <use xlink:href=\"#m85fe41a69f\" x=\"242.01589\" y=\"75.725234\" style=\"fill: #4c72b0; stroke: #333333\"/>\n     <use xlink:href=\"#m85fe41a69f\" x=\"112.152758\" y=\"195.284191\" style=\"fill: #4c72b0; stroke: #333333\"/>\n     <use xlink:href=\"#m85fe41a69f\" x=\"208.793836\" y=\"83.5877\" style=\"fill: #4c72b0; stroke: #333333\"/>\n     <use xlink:href=\"#m85fe41a69f\" x=\"223.926333\" y=\"76.090565\" style=\"fill: #4c72b0; stroke: #333333\"/>\n     <use xlink:href=\"#m85fe41a69f\" x=\"236.132988\" y=\"56.955145\" style=\"fill: #4c72b0; stroke: #333333\"/>\n     <use xlink:href=\"#m85fe41a69f\" x=\"242.881889\" y=\"84.154835\" style=\"fill: #4c72b0; stroke: #333333\"/>\n     <use xlink:href=\"#m85fe41a69f\" x=\"120.193576\" y=\"174.913218\" style=\"fill: #4c72b0; stroke: #333333\"/>\n     <use xlink:href=\"#m85fe41a69f\" x=\"103.78458\" y=\"195.283995\" style=\"fill: #4c72b0; stroke: #333333\"/>\n     <use xlink:href=\"#m85fe41a69f\" x=\"109.625818\" y=\"190.216829\" style=\"fill: #4c72b0; stroke: #333333\"/>\n     <use xlink:href=\"#m85fe41a69f\" x=\"125.148291\" y=\"196.937344\" style=\"fill: #4c72b0; stroke: #333333\"/>\n     <use xlink:href=\"#m85fe41a69f\" x=\"245.419639\" y=\"77.009475\" style=\"fill: #4c72b0; stroke: #333333\"/>\n     <use xlink:href=\"#m85fe41a69f\" x=\"144.313166\" y=\"169.174906\" style=\"fill: #4c72b0; stroke: #333333\"/>\n     <use xlink:href=\"#m85fe41a69f\" x=\"229.583076\" y=\"66.985343\" style=\"fill: #4c72b0; stroke: #333333\"/>\n     <use xlink:href=\"#m85fe41a69f\" x=\"239.499528\" y=\"62.582743\" style=\"fill: #4c72b0; stroke: #333333\"/>\n     <use xlink:href=\"#m85fe41a69f\" x=\"229.356409\" y=\"69.802017\" style=\"fill: #4c72b0; stroke: #333333\"/>\n     <use xlink:href=\"#m85fe41a69f\" x=\"102.576489\" y=\"189.254038\" style=\"fill: #4c72b0; stroke: #333333\"/>\n     <use xlink:href=\"#m85fe41a69f\" x=\"98.539796\" y=\"189.626288\" style=\"fill: #4c72b0; stroke: #333333\"/>\n     <use xlink:href=\"#m85fe41a69f\" x=\"236.408436\" y=\"88.179515\" style=\"fill: #4c72b0; stroke: #333333\"/>\n     <use xlink:href=\"#m85fe41a69f\" x=\"110.533863\" y=\"183.049257\" style=\"fill: #4c72b0; stroke: #333333\"/>\n     <use xlink:href=\"#m85fe41a69f\" x=\"226.204733\" y=\"91.040198\" style=\"fill: #4c72b0; stroke: #333333\"/>\n     <use xlink:href=\"#m85fe41a69f\" x=\"254.128467\" y=\"77.367126\" style=\"fill: #4c72b0; stroke: #333333\"/>\n     <use xlink:href=\"#m85fe41a69f\" x=\"115.581397\" y=\"195.022798\" style=\"fill: #4c72b0; stroke: #333333\"/>\n     <use xlink:href=\"#m85fe41a69f\" x=\"250.582997\" y=\"80.519436\" style=\"fill: #4c72b0; stroke: #333333\"/>\n     <use xlink:href=\"#m85fe41a69f\" x=\"238.736457\" y=\"74.306977\" style=\"fill: #4c72b0; stroke: #333333\"/>\n     <use xlink:href=\"#m85fe41a69f\" x=\"155.602225\" y=\"176.224278\" style=\"fill: #4c72b0; stroke: #333333\"/>\n     <use xlink:href=\"#m85fe41a69f\" x=\"230.925244\" y=\"88.353158\" style=\"fill: #4c72b0; stroke: #333333\"/>\n     <use xlink:href=\"#m85fe41a69f\" x=\"103.651317\" y=\"186.38212\" style=\"fill: #4c72b0; stroke: #333333\"/>\n     <use xlink:href=\"#m85fe41a69f\" x=\"225.174396\" y=\"89.750326\" style=\"fill: #4c72b0; stroke: #333333\"/>\n     <use xlink:href=\"#m85fe41a69f\" x=\"140.17062\" y=\"178.862503\" style=\"fill: #4c72b0; stroke: #333333\"/>\n     <use xlink:href=\"#m85fe41a69f\" x=\"232.255192\" y=\"61.348506\" style=\"fill: #4c72b0; stroke: #333333\"/>\n     <use xlink:href=\"#m85fe41a69f\" x=\"109.962609\" y=\"190.7486\" style=\"fill: #4c72b0; stroke: #333333\"/>\n     <use xlink:href=\"#m85fe41a69f\" x=\"232.881603\" y=\"86.9717\" style=\"fill: #4c72b0; stroke: #333333\"/>\n     <use xlink:href=\"#m85fe41a69f\" x=\"124.462419\" y=\"189.195165\" style=\"fill: #4c72b0; stroke: #333333\"/>\n     <use xlink:href=\"#m85fe41a69f\" x=\"127.017763\" y=\"199.477257\" style=\"fill: #4c72b0; stroke: #333333\"/>\n     <use xlink:href=\"#m85fe41a69f\" x=\"233.444991\" y=\"69.426747\" style=\"fill: #4c72b0; stroke: #333333\"/>\n     <use xlink:href=\"#m85fe41a69f\" x=\"102.953228\" y=\"182.613347\" style=\"fill: #4c72b0; stroke: #333333\"/>\n     <use xlink:href=\"#m85fe41a69f\" x=\"224.996423\" y=\"71.431325\" style=\"fill: #4c72b0; stroke: #333333\"/>\n     <use xlink:href=\"#m85fe41a69f\" x=\"223.880579\" y=\"97.77066\" style=\"fill: #4c72b0; stroke: #333333\"/>\n     <use xlink:href=\"#m85fe41a69f\" x=\"231.610898\" y=\"91.185872\" style=\"fill: #4c72b0; stroke: #333333\"/>\n     <use xlink:href=\"#m85fe41a69f\" x=\"132.621368\" y=\"195.034702\" style=\"fill: #4c72b0; stroke: #333333\"/>\n     <use xlink:href=\"#m85fe41a69f\" x=\"130.729748\" y=\"201.164315\" style=\"fill: #4c72b0; stroke: #333333\"/>\n     <use xlink:href=\"#m85fe41a69f\" x=\"127.338063\" y=\"172.654013\" style=\"fill: #4c72b0; stroke: #333333\"/>\n     <use xlink:href=\"#m85fe41a69f\" x=\"204.938002\" y=\"86.594097\" style=\"fill: #4c72b0; stroke: #333333\"/>\n     <use xlink:href=\"#m85fe41a69f\" x=\"236.458863\" y=\"84.455113\" style=\"fill: #4c72b0; stroke: #333333\"/>\n    </g>\n   </g>\n   <g id=\"PathCollection_2\">\n    <defs>\n     <path id=\"m7a7e012166\" d=\"M 0 3 \nC 0.795609 3 1.55874 2.683901 2.12132 2.12132 \nC 2.683901 1.55874 3 0.795609 3 0 \nC 3 -0.795609 2.683901 -1.55874 2.12132 -2.12132 \nC 1.55874 -2.683901 0.795609 -3 0 -3 \nC -0.795609 -3 -1.55874 -2.683901 -2.12132 -2.12132 \nC -2.683901 -1.55874 -3 -0.795609 -3 0 \nC -3 0.795609 -2.683901 1.55874 -2.12132 2.12132 \nC -1.55874 2.683901 -0.795609 3 0 3 \nz\n\" style=\"stroke: #333333\"/>\n    </defs>\n    <g clip-path=\"url(#p4ffc018323)\">\n     <use xlink:href=\"#m7a7e012166\" x=\"113.92348\" y=\"75.18289\" style=\"fill: #dd8452; stroke: #333333\"/>\n     <use xlink:href=\"#m7a7e012166\" x=\"142.151302\" y=\"72.504264\" style=\"fill: #dd8452; stroke: #333333\"/>\n     <use xlink:href=\"#m7a7e012166\" x=\"110.656323\" y=\"69.030936\" style=\"fill: #dd8452; stroke: #333333\"/>\n     <use xlink:href=\"#m7a7e012166\" x=\"241.458596\" y=\"167.606485\" style=\"fill: #dd8452; stroke: #333333\"/>\n     <use xlink:href=\"#m7a7e012166\" x=\"222.480655\" y=\"197.683829\" style=\"fill: #dd8452; stroke: #333333\"/>\n     <use xlink:href=\"#m7a7e012166\" x=\"231.488691\" y=\"184.855432\" style=\"fill: #dd8452; stroke: #333333\"/>\n     <use xlink:href=\"#m7a7e012166\" x=\"237.590846\" y=\"189.445652\" style=\"fill: #dd8452; stroke: #333333\"/>\n     <use xlink:href=\"#m7a7e012166\" x=\"222.954346\" y=\"205.434752\" style=\"fill: #dd8452; stroke: #333333\"/>\n     <use xlink:href=\"#m7a7e012166\" x=\"232.989012\" y=\"201.31138\" style=\"fill: #dd8452; stroke: #333333\"/>\n     <use xlink:href=\"#m7a7e012166\" x=\"133.472466\" y=\"66.073571\" style=\"fill: #dd8452; stroke: #333333\"/>\n     <use xlink:href=\"#m7a7e012166\" x=\"106.187995\" y=\"88.156727\" style=\"fill: #dd8452; stroke: #333333\"/>\n     <use xlink:href=\"#m7a7e012166\" x=\"127.174305\" y=\"72.061265\" style=\"fill: #dd8452; stroke: #333333\"/>\n     <use xlink:href=\"#m7a7e012166\" x=\"238.054438\" y=\"145.919037\" style=\"fill: #dd8452; stroke: #333333\"/>\n     <use xlink:href=\"#m7a7e012166\" x=\"112.894508\" y=\"80.383972\" style=\"fill: #dd8452; stroke: #333333\"/>\n     <use xlink:href=\"#m7a7e012166\" x=\"226.961882\" y=\"187.730305\" style=\"fill: #dd8452; stroke: #333333\"/>\n     <use xlink:href=\"#m7a7e012166\" x=\"116.230813\" y=\"65.68384\" style=\"fill: #dd8452; stroke: #333333\"/>\n     <use xlink:href=\"#m7a7e012166\" x=\"122.176331\" y=\"89.708161\" style=\"fill: #dd8452; stroke: #333333\"/>\n     <use xlink:href=\"#m7a7e012166\" x=\"113.365289\" y=\"75.358027\" style=\"fill: #dd8452; stroke: #333333\"/>\n     <use xlink:href=\"#m7a7e012166\" x=\"121.968894\" y=\"84.98307\" style=\"fill: #dd8452; stroke: #333333\"/>\n     <use xlink:href=\"#m7a7e012166\" x=\"145.235645\" y=\"70.729228\" style=\"fill: #dd8452; stroke: #333333\"/>\n     <use xlink:href=\"#m7a7e012166\" x=\"225.005708\" y=\"179.186344\" style=\"fill: #dd8452; stroke: #333333\"/>\n     <use xlink:href=\"#m7a7e012166\" x=\"218.362914\" y=\"178.460871\" style=\"fill: #dd8452; stroke: #333333\"/>\n     <use xlink:href=\"#m7a7e012166\" x=\"144.994061\" y=\"66.310145\" style=\"fill: #dd8452; stroke: #333333\"/>\n     <use xlink:href=\"#m7a7e012166\" x=\"222.06579\" y=\"189.298142\" style=\"fill: #dd8452; stroke: #333333\"/>\n     <use xlink:href=\"#m7a7e012166\" x=\"196.404423\" y=\"199.996535\" style=\"fill: #dd8452; stroke: #333333\"/>\n     <use xlink:href=\"#m7a7e012166\" x=\"139.563771\" y=\"93.615532\" style=\"fill: #dd8452; stroke: #333333\"/>\n     <use xlink:href=\"#m7a7e012166\" x=\"116.584381\" y=\"76.308475\" style=\"fill: #dd8452; stroke: #333333\"/>\n     <use xlink:href=\"#m7a7e012166\" x=\"248.324436\" y=\"204.558965\" style=\"fill: #dd8452; stroke: #333333\"/>\n     <use xlink:href=\"#m7a7e012166\" x=\"245.240747\" y=\"188.524661\" style=\"fill: #dd8452; stroke: #333333\"/>\n     <use xlink:href=\"#m7a7e012166\" x=\"221.460628\" y=\"183.514322\" style=\"fill: #dd8452; stroke: #333333\"/>\n     <use xlink:href=\"#m7a7e012166\" x=\"123.670768\" y=\"84.413331\" style=\"fill: #dd8452; stroke: #333333\"/>\n     <use xlink:href=\"#m7a7e012166\" x=\"233.117556\" y=\"192.910482\" style=\"fill: #dd8452; stroke: #333333\"/>\n     <use xlink:href=\"#m7a7e012166\" x=\"249.929344\" y=\"202.363023\" style=\"fill: #dd8452; stroke: #333333\"/>\n     <use xlink:href=\"#m7a7e012166\" x=\"225.808717\" y=\"179.217737\" style=\"fill: #dd8452; stroke: #333333\"/>\n     <use xlink:href=\"#m7a7e012166\" x=\"242.318356\" y=\"185.230788\" style=\"fill: #dd8452; stroke: #333333\"/>\n     <use xlink:href=\"#m7a7e012166\" x=\"112.271697\" y=\"83.969413\" style=\"fill: #dd8452; stroke: #333333\"/>\n     <use xlink:href=\"#m7a7e012166\" x=\"135.630342\" y=\"84.317468\" style=\"fill: #dd8452; stroke: #333333\"/>\n     <use xlink:href=\"#m7a7e012166\" x=\"127.529809\" y=\"80.000037\" style=\"fill: #dd8452; stroke: #333333\"/>\n     <use xlink:href=\"#m7a7e012166\" x=\"119.049944\" y=\"65.574885\" style=\"fill: #dd8452; stroke: #333333\"/>\n     <use xlink:href=\"#m7a7e012166\" x=\"239.905093\" y=\"192.078363\" style=\"fill: #dd8452; stroke: #333333\"/>\n     <use xlink:href=\"#m7a7e012166\" x=\"235.937944\" y=\"190.081151\" style=\"fill: #dd8452; stroke: #333333\"/>\n     <use xlink:href=\"#m7a7e012166\" x=\"122.539085\" y=\"71.159023\" style=\"fill: #dd8452; stroke: #333333\"/>\n     <use xlink:href=\"#m7a7e012166\" x=\"223.27116\" y=\"165.437735\" style=\"fill: #dd8452; stroke: #333333\"/>\n     <use xlink:href=\"#m7a7e012166\" x=\"110.308873\" y=\"91.221045\" style=\"fill: #dd8452; stroke: #333333\"/>\n     <use xlink:href=\"#m7a7e012166\" x=\"243.155725\" y=\"190.268697\" style=\"fill: #dd8452; stroke: #333333\"/>\n     <use xlink:href=\"#m7a7e012166\" x=\"236.922178\" y=\"194.888703\" style=\"fill: #dd8452; stroke: #333333\"/>\n     <use xlink:href=\"#m7a7e012166\" x=\"112.346814\" y=\"75.056117\" style=\"fill: #dd8452; stroke: #333333\"/>\n     <use xlink:href=\"#m7a7e012166\" x=\"105.407234\" y=\"93.364081\" style=\"fill: #dd8452; stroke: #333333\"/>\n     <use xlink:href=\"#m7a7e012166\" x=\"130.973324\" y=\"79.531521\" style=\"fill: #dd8452; stroke: #333333\"/>\n     <use xlink:href=\"#m7a7e012166\" x=\"232.138319\" y=\"191.838772\" style=\"fill: #dd8452; stroke: #333333\"/>\n     <use xlink:href=\"#m7a7e012166\" x=\"238.102102\" y=\"171.643115\" style=\"fill: #dd8452; stroke: #333333\"/>\n     <use xlink:href=\"#m7a7e012166\" x=\"233.426631\" y=\"197.209258\" style=\"fill: #dd8452; stroke: #333333\"/>\n     <use xlink:href=\"#m7a7e012166\" x=\"232.615368\" y=\"183.11632\" style=\"fill: #dd8452; stroke: #333333\"/>\n     <use xlink:href=\"#m7a7e012166\" x=\"145.744129\" y=\"86.720533\" style=\"fill: #dd8452; stroke: #333333\"/>\n     <use xlink:href=\"#m7a7e012166\" x=\"111.501972\" y=\"72.303721\" style=\"fill: #dd8452; stroke: #333333\"/>\n     <use xlink:href=\"#m7a7e012166\" x=\"217.704846\" y=\"168.33091\" style=\"fill: #dd8452; stroke: #333333\"/>\n     <use xlink:href=\"#m7a7e012166\" x=\"245.421225\" y=\"193.840345\" style=\"fill: #dd8452; stroke: #333333\"/>\n     <use xlink:href=\"#m7a7e012166\" x=\"102.468358\" y=\"62.746394\" style=\"fill: #dd8452; stroke: #333333\"/>\n     <use xlink:href=\"#m7a7e012166\" x=\"232.401739\" y=\"188.117204\" style=\"fill: #dd8452; stroke: #333333\"/>\n     <use xlink:href=\"#m7a7e012166\" x=\"227.353265\" y=\"181.731965\" style=\"fill: #dd8452; stroke: #333333\"/>\n     <use xlink:href=\"#m7a7e012166\" x=\"122.797432\" y=\"72.054022\" style=\"fill: #dd8452; stroke: #333333\"/>\n     <use xlink:href=\"#m7a7e012166\" x=\"240.233982\" y=\"201.108157\" style=\"fill: #dd8452; stroke: #333333\"/>\n     <use xlink:href=\"#m7a7e012166\" x=\"104.453336\" y=\"63.591244\" style=\"fill: #dd8452; stroke: #333333\"/>\n     <use xlink:href=\"#m7a7e012166\" x=\"138.662767\" y=\"76.475524\" style=\"fill: #dd8452; stroke: #333333\"/>\n     <use xlink:href=\"#m7a7e012166\" x=\"110.764523\" y=\"70.151182\" style=\"fill: #dd8452; stroke: #333333\"/>\n     <use xlink:href=\"#m7a7e012166\" x=\"133.199404\" y=\"97.259027\" style=\"fill: #dd8452; stroke: #333333\"/>\n     <use xlink:href=\"#m7a7e012166\" x=\"108.343623\" y=\"100.369132\" style=\"fill: #dd8452; stroke: #333333\"/>\n     <use xlink:href=\"#m7a7e012166\" x=\"249.001723\" y=\"187.816562\" style=\"fill: #dd8452; stroke: #333333\"/>\n     <use xlink:href=\"#m7a7e012166\" x=\"250.401686\" y=\"203.94069\" style=\"fill: #dd8452; stroke: #333333\"/>\n     <use xlink:href=\"#m7a7e012166\" x=\"125.722111\" y=\"78.120646\" style=\"fill: #dd8452; stroke: #333333\"/>\n     <use xlink:href=\"#m7a7e012166\" x=\"106.999635\" y=\"70.332796\" style=\"fill: #dd8452; stroke: #333333\"/>\n     <use xlink:href=\"#m7a7e012166\" x=\"226.645835\" y=\"200.382684\" style=\"fill: #dd8452; stroke: #333333\"/>\n     <use xlink:href=\"#m7a7e012166\" x=\"120.768608\" y=\"67.167513\" style=\"fill: #dd8452; stroke: #333333\"/>\n     <use xlink:href=\"#m7a7e012166\" x=\"115.584097\" y=\"86.5495\" style=\"fill: #dd8452; stroke: #333333\"/>\n     <use xlink:href=\"#m7a7e012166\" x=\"231.156842\" y=\"200.116892\" style=\"fill: #dd8452; stroke: #333333\"/>\n     <use xlink:href=\"#m7a7e012166\" x=\"224.585035\" y=\"186.265516\" style=\"fill: #dd8452; stroke: #333333\"/>\n     <use xlink:href=\"#m7a7e012166\" x=\"231.098102\" y=\"191.088236\" style=\"fill: #dd8452; stroke: #333333\"/>\n     <use xlink:href=\"#m7a7e012166\" x=\"128.273474\" y=\"69.358873\" style=\"fill: #dd8452; stroke: #333333\"/>\n     <use xlink:href=\"#m7a7e012166\" x=\"118.41382\" y=\"103.281828\" style=\"fill: #dd8452; stroke: #333333\"/>\n     <use xlink:href=\"#m7a7e012166\" x=\"215.543154\" y=\"173.482223\" style=\"fill: #dd8452; stroke: #333333\"/>\n     <use xlink:href=\"#m7a7e012166\" x=\"223.957177\" y=\"204.408074\" style=\"fill: #dd8452; stroke: #333333\"/>\n     <use xlink:href=\"#m7a7e012166\" x=\"122.321454\" y=\"87.308044\" style=\"fill: #dd8452; stroke: #333333\"/>\n     <use xlink:href=\"#m7a7e012166\" x=\"138.351994\" y=\"71.782684\" style=\"fill: #dd8452; stroke: #333333\"/>\n     <use xlink:href=\"#m7a7e012166\" x=\"111.754739\" y=\"93.090609\" style=\"fill: #dd8452; stroke: #333333\"/>\n     <use xlink:href=\"#m7a7e012166\" x=\"242.61305\" y=\"167.466514\" style=\"fill: #dd8452; stroke: #333333\"/>\n     <use xlink:href=\"#m7a7e012166\" x=\"216.836277\" y=\"182.395922\" style=\"fill: #dd8452; stroke: #333333\"/>\n     <use xlink:href=\"#m7a7e012166\" x=\"114.249269\" y=\"83.159373\" style=\"fill: #dd8452; stroke: #333333\"/>\n     <use xlink:href=\"#m7a7e012166\" x=\"225.77513\" y=\"198.218055\" style=\"fill: #dd8452; stroke: #333333\"/>\n     <use xlink:href=\"#m7a7e012166\" x=\"229.69414\" y=\"198.701191\" style=\"fill: #dd8452; stroke: #333333\"/>\n     <use xlink:href=\"#m7a7e012166\" x=\"115.068353\" y=\"69.382348\" style=\"fill: #dd8452; stroke: #333333\"/>\n     <use xlink:href=\"#m7a7e012166\" x=\"103.417404\" y=\"77.224954\" style=\"fill: #dd8452; stroke: #333333\"/>\n     <use xlink:href=\"#m7a7e012166\" x=\"235.223397\" y=\"198.665188\" style=\"fill: #dd8452; stroke: #333333\"/>\n     <use xlink:href=\"#m7a7e012166\" x=\"239.424305\" y=\"207.061059\" style=\"fill: #dd8452; stroke: #333333\"/>\n     <use xlink:href=\"#m7a7e012166\" x=\"225.116032\" y=\"188.112569\" style=\"fill: #dd8452; stroke: #333333\"/>\n     <use xlink:href=\"#m7a7e012166\" x=\"111.92333\" y=\"82.022076\" style=\"fill: #dd8452; stroke: #333333\"/>\n     <use xlink:href=\"#m7a7e012166\" x=\"127.86217\" y=\"80.009495\" style=\"fill: #dd8452; stroke: #333333\"/>\n     <use xlink:href=\"#m7a7e012166\" x=\"233.303704\" y=\"190.364274\" style=\"fill: #dd8452; stroke: #333333\"/>\n    </g>\n   </g>\n   <g id=\"patch_3\">\n    <path d=\"M 66.023594 244.078125 \nL 66.023594 22.318125 \n\" style=\"fill: none; stroke: #ffffff; stroke-width: 1.25; stroke-linejoin: miter; stroke-linecap: square\"/>\n   </g>\n   <g id=\"patch_4\">\n    <path d=\"M 287.783594 244.078125 \nL 287.783594 22.318125 \n\" style=\"fill: none; stroke: #ffffff; stroke-width: 1.25; stroke-linejoin: miter; stroke-linecap: square\"/>\n   </g>\n   <g id=\"patch_5\">\n    <path d=\"M 66.023594 244.078125 \nL 287.783594 244.078125 \n\" style=\"fill: none; stroke: #ffffff; stroke-width: 1.25; stroke-linejoin: miter; stroke-linecap: square\"/>\n   </g>\n   <g id=\"patch_6\">\n    <path d=\"M 66.023594 22.318125 \nL 287.783594 22.318125 \n\" style=\"fill: none; stroke: #ffffff; stroke-width: 1.25; stroke-linejoin: miter; stroke-linecap: square\"/>\n   </g>\n   <g id=\"text_17\">\n    <!-- Dataset samples -->\n    <g style=\"fill: #262626\" transform=\"translate(126.560781 16.318125) scale(0.12 -0.12)\">\n     <defs>\n      <path id=\"DejaVuSans-44\" d=\"M 1259 4147 \nL 1259 519 \nL 2022 519 \nQ 2988 519 3436 956 \nQ 3884 1394 3884 2338 \nQ 3884 3275 3436 3711 \nQ 2988 4147 2022 4147 \nL 1259 4147 \nz\nM 628 4666 \nL 1925 4666 \nQ 3281 4666 3915 4102 \nQ 4550 3538 4550 2338 \nQ 4550 1131 3912 565 \nQ 3275 0 1925 0 \nL 628 0 \nL 628 4666 \nz\n\" transform=\"scale(0.015625)\"/>\n      <path id=\"DejaVuSans-61\" d=\"M 2194 1759 \nQ 1497 1759 1228 1600 \nQ 959 1441 959 1056 \nQ 959 750 1161 570 \nQ 1363 391 1709 391 \nQ 2188 391 2477 730 \nQ 2766 1069 2766 1631 \nL 2766 1759 \nL 2194 1759 \nz\nM 3341 1997 \nL 3341 0 \nL 2766 0 \nL 2766 531 \nQ 2569 213 2275 61 \nQ 1981 -91 1556 -91 \nQ 1019 -91 701 211 \nQ 384 513 384 1019 \nQ 384 1609 779 1909 \nQ 1175 2209 1959 2209 \nL 2766 2209 \nL 2766 2266 \nQ 2766 2663 2505 2880 \nQ 2244 3097 1772 3097 \nQ 1472 3097 1187 3025 \nQ 903 2953 641 2809 \nL 641 3341 \nQ 956 3463 1253 3523 \nQ 1550 3584 1831 3584 \nQ 2591 3584 2966 3190 \nQ 3341 2797 3341 1997 \nz\n\" transform=\"scale(0.015625)\"/>\n      <path id=\"DejaVuSans-74\" d=\"M 1172 4494 \nL 1172 3500 \nL 2356 3500 \nL 2356 3053 \nL 1172 3053 \nL 1172 1153 \nQ 1172 725 1289 603 \nQ 1406 481 1766 481 \nL 2356 481 \nL 2356 0 \nL 1766 0 \nQ 1100 0 847 248 \nQ 594 497 594 1153 \nL 594 3053 \nL 172 3053 \nL 172 3500 \nL 594 3500 \nL 594 4494 \nL 1172 4494 \nz\n\" transform=\"scale(0.015625)\"/>\n      <path id=\"DejaVuSans-73\" d=\"M 2834 3397 \nL 2834 2853 \nQ 2591 2978 2328 3040 \nQ 2066 3103 1784 3103 \nQ 1356 3103 1142 2972 \nQ 928 2841 928 2578 \nQ 928 2378 1081 2264 \nQ 1234 2150 1697 2047 \nL 1894 2003 \nQ 2506 1872 2764 1633 \nQ 3022 1394 3022 966 \nQ 3022 478 2636 193 \nQ 2250 -91 1575 -91 \nQ 1294 -91 989 -36 \nQ 684 19 347 128 \nL 347 722 \nQ 666 556 975 473 \nQ 1284 391 1588 391 \nQ 1994 391 2212 530 \nQ 2431 669 2431 922 \nQ 2431 1156 2273 1281 \nQ 2116 1406 1581 1522 \nL 1381 1569 \nQ 847 1681 609 1914 \nQ 372 2147 372 2553 \nQ 372 3047 722 3315 \nQ 1072 3584 1716 3584 \nQ 2034 3584 2315 3537 \nQ 2597 3491 2834 3397 \nz\n\" transform=\"scale(0.015625)\"/>\n      <path id=\"DejaVuSans-65\" d=\"M 3597 1894 \nL 3597 1613 \nL 953 1613 \nQ 991 1019 1311 708 \nQ 1631 397 2203 397 \nQ 2534 397 2845 478 \nQ 3156 559 3463 722 \nL 3463 178 \nQ 3153 47 2828 -22 \nQ 2503 -91 2169 -91 \nQ 1331 -91 842 396 \nQ 353 884 353 1716 \nQ 353 2575 817 3079 \nQ 1281 3584 2069 3584 \nQ 2775 3584 3186 3129 \nQ 3597 2675 3597 1894 \nz\nM 3022 2063 \nQ 3016 2534 2758 2815 \nQ 2500 3097 2075 3097 \nQ 1594 3097 1305 2825 \nQ 1016 2553 972 2059 \nL 3022 2063 \nz\n\" transform=\"scale(0.015625)\"/>\n      <path id=\"DejaVuSans-20\" transform=\"scale(0.015625)\"/>\n      <path id=\"DejaVuSans-6d\" d=\"M 3328 2828 \nQ 3544 3216 3844 3400 \nQ 4144 3584 4550 3584 \nQ 5097 3584 5394 3201 \nQ 5691 2819 5691 2113 \nL 5691 0 \nL 5113 0 \nL 5113 2094 \nQ 5113 2597 4934 2840 \nQ 4756 3084 4391 3084 \nQ 3944 3084 3684 2787 \nQ 3425 2491 3425 1978 \nL 3425 0 \nL 2847 0 \nL 2847 2094 \nQ 2847 2600 2669 2842 \nQ 2491 3084 2119 3084 \nQ 1678 3084 1418 2786 \nQ 1159 2488 1159 1978 \nL 1159 0 \nL 581 0 \nL 581 3500 \nL 1159 3500 \nL 1159 2956 \nQ 1356 3278 1631 3431 \nQ 1906 3584 2284 3584 \nQ 2666 3584 2933 3390 \nQ 3200 3197 3328 2828 \nz\n\" transform=\"scale(0.015625)\"/>\n      <path id=\"DejaVuSans-70\" d=\"M 1159 525 \nL 1159 -1331 \nL 581 -1331 \nL 581 3500 \nL 1159 3500 \nL 1159 2969 \nQ 1341 3281 1617 3432 \nQ 1894 3584 2278 3584 \nQ 2916 3584 3314 3078 \nQ 3713 2572 3713 1747 \nQ 3713 922 3314 415 \nQ 2916 -91 2278 -91 \nQ 1894 -91 1617 61 \nQ 1341 213 1159 525 \nz\nM 3116 1747 \nQ 3116 2381 2855 2742 \nQ 2594 3103 2138 3103 \nQ 1681 3103 1420 2742 \nQ 1159 2381 1159 1747 \nQ 1159 1113 1420 752 \nQ 1681 391 2138 391 \nQ 2594 391 2855 752 \nQ 3116 1113 3116 1747 \nz\n\" transform=\"scale(0.015625)\"/>\n      <path id=\"DejaVuSans-6c\" d=\"M 603 4863 \nL 1178 4863 \nL 1178 0 \nL 603 0 \nL 603 4863 \nz\n\" transform=\"scale(0.015625)\"/>\n     </defs>\n     <use xlink:href=\"#DejaVuSans-44\"/>\n     <use xlink:href=\"#DejaVuSans-61\" x=\"77.001953\"/>\n     <use xlink:href=\"#DejaVuSans-74\" x=\"138.28125\"/>\n     <use xlink:href=\"#DejaVuSans-61\" x=\"177.490234\"/>\n     <use xlink:href=\"#DejaVuSans-73\" x=\"238.769531\"/>\n     <use xlink:href=\"#DejaVuSans-65\" x=\"290.869141\"/>\n     <use xlink:href=\"#DejaVuSans-74\" x=\"352.392578\"/>\n     <use xlink:href=\"#DejaVuSans-20\" x=\"391.601562\"/>\n     <use xlink:href=\"#DejaVuSans-73\" x=\"423.388672\"/>\n     <use xlink:href=\"#DejaVuSans-61\" x=\"475.488281\"/>\n     <use xlink:href=\"#DejaVuSans-6d\" x=\"536.767578\"/>\n     <use xlink:href=\"#DejaVuSans-70\" x=\"634.179688\"/>\n     <use xlink:href=\"#DejaVuSans-6c\" x=\"697.65625\"/>\n     <use xlink:href=\"#DejaVuSans-65\" x=\"725.439453\"/>\n     <use xlink:href=\"#DejaVuSans-73\" x=\"786.962891\"/>\n    </g>\n   </g>\n   <g id=\"legend_1\">\n    <g id=\"patch_7\">\n     <path d=\"M 73.723594 150.994063 \nL 148.356875 150.994063 \nQ 150.556875 150.994063 150.556875 148.794063 \nL 150.556875 117.602188 \nQ 150.556875 115.402188 148.356875 115.402188 \nL 73.723594 115.402188 \nQ 71.523594 115.402188 71.523594 117.602188 \nL 71.523594 148.794063 \nQ 71.523594 150.994063 73.723594 150.994063 \nz\n\" style=\"fill: #eaeaf2; opacity: 0.8; stroke: #cccccc; stroke-linejoin: miter\"/>\n    </g>\n    <g id=\"PathCollection_3\">\n     <g>\n      <use xlink:href=\"#m85fe41a69f\" x=\"86.923594\" y=\"125.272969\" style=\"fill: #4c72b0; stroke: #333333\"/>\n     </g>\n    </g>\n    <g id=\"text_18\">\n     <!-- Class 0 -->\n     <g style=\"fill: #262626\" transform=\"translate(106.723594 128.160469) scale(0.11 -0.11)\">\n      <defs>\n       <path id=\"DejaVuSans-43\" d=\"M 4122 4306 \nL 4122 3641 \nQ 3803 3938 3442 4084 \nQ 3081 4231 2675 4231 \nQ 1875 4231 1450 3742 \nQ 1025 3253 1025 2328 \nQ 1025 1406 1450 917 \nQ 1875 428 2675 428 \nQ 3081 428 3442 575 \nQ 3803 722 4122 1019 \nL 4122 359 \nQ 3791 134 3420 21 \nQ 3050 -91 2638 -91 \nQ 1578 -91 968 557 \nQ 359 1206 359 2328 \nQ 359 3453 968 4101 \nQ 1578 4750 2638 4750 \nQ 3056 4750 3426 4639 \nQ 3797 4528 4122 4306 \nz\n\" transform=\"scale(0.015625)\"/>\n      </defs>\n      <use xlink:href=\"#DejaVuSans-43\"/>\n      <use xlink:href=\"#DejaVuSans-6c\" x=\"69.824219\"/>\n      <use xlink:href=\"#DejaVuSans-61\" x=\"97.607422\"/>\n      <use xlink:href=\"#DejaVuSans-73\" x=\"158.886719\"/>\n      <use xlink:href=\"#DejaVuSans-73\" x=\"210.986328\"/>\n      <use xlink:href=\"#DejaVuSans-20\" x=\"263.085938\"/>\n      <use xlink:href=\"#DejaVuSans-30\" x=\"294.873047\"/>\n     </g>\n    </g>\n    <g id=\"PathCollection_4\">\n     <g>\n      <use xlink:href=\"#m7a7e012166\" x=\"86.923594\" y=\"141.418906\" style=\"fill: #dd8452; stroke: #333333\"/>\n     </g>\n    </g>\n    <g id=\"text_19\">\n     <!-- Class 1 -->\n     <g style=\"fill: #262626\" transform=\"translate(106.723594 144.306406) scale(0.11 -0.11)\">\n      <use xlink:href=\"#DejaVuSans-43\"/>\n      <use xlink:href=\"#DejaVuSans-6c\" x=\"69.824219\"/>\n      <use xlink:href=\"#DejaVuSans-61\" x=\"97.607422\"/>\n      <use xlink:href=\"#DejaVuSans-73\" x=\"158.886719\"/>\n      <use xlink:href=\"#DejaVuSans-73\" x=\"210.986328\"/>\n      <use xlink:href=\"#DejaVuSans-20\" x=\"263.085938\"/>\n      <use xlink:href=\"#DejaVuSans-31\" x=\"294.873047\"/>\n     </g>\n    </g>\n   </g>\n  </g>\n </g>\n <defs>\n  <clipPath id=\"p4ffc018323\">\n   <rect x=\"66.023594\" y=\"22.318125\" width=\"221.76\" height=\"221.76\"/>\n  </clipPath>\n </defs>\n</svg>\n",
            "application/pdf": "[encoded data removed]"
          },
          "metadata": {}
        }
      ]
    },
    {
      "cell_type": "code",
      "source": [
        "def simple_linear(x, w, b):\n",
        "    # We could already vectorize this function with matmul, but as an example,\n",
        "    # let us use a non-vectorized function with same output\n",
        "    return (x[:,None] * w).sum(axis=0) + b"
      ],
      "metadata": {
        "id": "JSvVNXCxf-Vt"
      },
      "execution_count": 62,
      "outputs": []
    },
    {
      "cell_type": "code",
      "source": [
        "# Example inputs\n",
        "rng, x_rng, w_rng, b_rng = jax.random.split(rng, 4)\n",
        "x_in = jax.random.normal(x_rng, (4,))\n",
        "w_in = jax.random.normal(w_rng, (4, 3))\n",
        "b_in = jax.random.normal(b_rng, (3,))\n",
        "\n",
        "simple_linear(x_in, w_in, b_in)"
      ],
      "metadata": {
        "colab": {
          "base_uri": "https://localhost:8080/"
        },
        "id": "etsXoEQ6gS0l",
        "outputId": "ea7a2592-6ce7-4ad4-8024-607612678484"
      },
      "execution_count": 63,
      "outputs": [
        {
          "output_type": "execute_result",
          "data": {
            "text/plain": [
              "Array([-0.5393317,  1.4906642,  0.7108946], dtype=float32)"
            ]
          },
          "metadata": {},
          "execution_count": 63
        }
      ]
    },
    {
      "cell_type": "code",
      "source": [
        "vectorized_linear = jax.vmap(simple_linear,\n",
        "                             in_axes=(0, None, None),  # Which axes to vectorize for each input\n",
        "                             out_axes=0  # Which axes to map to in the output\n",
        "                            )"
      ],
      "metadata": {
        "id": "mwrgrAsXgXd1"
      },
      "execution_count": 64,
      "outputs": []
    },
    {
      "cell_type": "code",
      "source": [
        "x_vec_in = jnp.stack([x_in]*5, axis=0)\n",
        "\n",
        "vectorized_linear(x_vec_in, w_in, b_in)"
      ],
      "metadata": {
        "colab": {
          "base_uri": "https://localhost:8080/"
        },
        "id": "q1Q4jzUBgaJT",
        "outputId": "bc71bb3b-21bc-452b-9a1d-db65e3153e7c"
      },
      "execution_count": 65,
      "outputs": [
        {
          "output_type": "execute_result",
          "data": {
            "text/plain": [
              "Array([[-0.5393317,  1.4906642,  0.7108946],\n",
              "       [-0.5393317,  1.4906642,  0.7108946],\n",
              "       [-0.5393317,  1.4906642,  0.7108946],\n",
              "       [-0.5393317,  1.4906642,  0.7108946],\n",
              "       [-0.5393317,  1.4906642,  0.7108946]], dtype=float32)"
            ]
          },
          "metadata": {},
          "execution_count": 65
        }
      ]
    },
    {
      "cell_type": "code",
      "source": [
        "parameters = jax.tree_leaves(model_state.params)\n",
        "print('We have parameters with the following shapes:', ', '.join([str(p.shape) for p in parameters]))\n",
        "print('Overall parameter count:', sum([np.prod(p.shape) for p in parameters]))"
      ],
      "metadata": {
        "colab": {
          "base_uri": "https://localhost:8080/"
        },
        "id": "KpDyf7V-ghVa",
        "outputId": "d2d0f80f-4bc3-4764-db01-a71b60ef93ca"
      },
      "execution_count": 66,
      "outputs": [
        {
          "output_type": "stream",
          "name": "stdout",
          "text": [
            "We have parameters with the following shapes: (8,), (2, 8), (1,), (8, 1)\n",
            "Overall parameter count: 33\n"
          ]
        },
        {
          "output_type": "stream",
          "name": "stderr",
          "text": [
            "<ipython-input-66-40d1d4eadaa1>:1: FutureWarning: jax.tree_leaves is deprecated, and will be removed in a future release. Use jax.tree_util.tree_leaves instead.\n",
            "  parameters = jax.tree_leaves(model_state.params)\n"
          ]
        }
      ]
    },
    {
      "cell_type": "code",
      "source": [
        "jax.tree_map(lambda p: p.shape, model_state.params)"
      ],
      "metadata": {
        "colab": {
          "base_uri": "https://localhost:8080/"
        },
        "id": "jrR7LpUsgvQF",
        "outputId": "88234e82-e1f9-4841-8fae-c0f5238cfabc"
      },
      "execution_count": 67,
      "outputs": [
        {
          "output_type": "execute_result",
          "data": {
            "text/plain": [
              "FrozenDict({\n",
              "    params: {\n",
              "        linear1: {\n",
              "            bias: (8,),\n",
              "            kernel: (2, 8),\n",
              "        },\n",
              "        linear2: {\n",
              "            bias: (1,),\n",
              "            kernel: (8, 1),\n",
              "        },\n",
              "    },\n",
              "})"
            ]
          },
          "metadata": {},
          "execution_count": 67
        }
      ]
    },
    {
      "cell_type": "code",
      "source": [
        "for i in range(10):\n",
        "    jitted_function(jnp.zeros(i+1,))"
      ],
      "metadata": {
        "id": "yfHH6c-6g4QF"
      },
      "execution_count": 68,
      "outputs": []
    },
    {
      "cell_type": "code",
      "source": [
        "# Running the functions a second time will not print out anything since\n",
        "# the functions are already jitted for the respective input shapes.\n",
        "for i in range(10):\n",
        "    jitted_function(jnp.zeros(i+1,))"
      ],
      "metadata": {
        "id": "I06FLuhIg8OK"
      },
      "execution_count": 69,
      "outputs": []
    }
  ]
}